{
 "cells": [
  {
   "cell_type": "code",
   "execution_count": 1,
   "metadata": {},
   "outputs": [],
   "source": [
    "import pandas as pd\n",
    "%matplotlib inline"
   ]
  },
  {
   "cell_type": "code",
   "execution_count": 2,
   "metadata": {},
   "outputs": [],
   "source": [
    "path = r\"C:\\Users\\anees\\Documents\\CS\\MP\\datasets\\top10toxic.csv\""
   ]
  },
  {
   "cell_type": "code",
   "execution_count": 3,
   "metadata": {},
   "outputs": [],
   "source": [
    "df = pd.read_csv(path)"
   ]
  },
  {
   "cell_type": "code",
   "execution_count": 4,
   "metadata": {},
   "outputs": [
    {
     "data": {
      "text/html": [
       "<div>\n",
       "<style scoped>\n",
       "    .dataframe tbody tr th:only-of-type {\n",
       "        vertical-align: middle;\n",
       "    }\n",
       "\n",
       "    .dataframe tbody tr th {\n",
       "        vertical-align: top;\n",
       "    }\n",
       "\n",
       "    .dataframe thead th {\n",
       "        text-align: right;\n",
       "    }\n",
       "</style>\n",
       "<table border=\"1\" class=\"dataframe\">\n",
       "  <thead>\n",
       "    <tr style=\"text-align: right;\">\n",
       "      <th></th>\n",
       "      <th>subreddit</th>\n",
       "      <th>user</th>\n",
       "      <th>comment</th>\n",
       "      <th>score</th>\n",
       "      <th>toxic</th>\n",
       "      <th>severe_toxic</th>\n",
       "      <th>obscene</th>\n",
       "      <th>threat</th>\n",
       "      <th>insult</th>\n",
       "      <th>identity_hate</th>\n",
       "    </tr>\n",
       "  </thead>\n",
       "  <tbody>\n",
       "    <tr>\n",
       "      <th>0</th>\n",
       "      <td>funny</td>\n",
       "      <td>twowordsdefault</td>\n",
       "      <td>I pretend I can manage and organize an entire ...</td>\n",
       "      <td>5737.0</td>\n",
       "      <td>0.085211</td>\n",
       "      <td>0.006877</td>\n",
       "      <td>0.034166</td>\n",
       "      <td>0.003244</td>\n",
       "      <td>0.031389</td>\n",
       "      <td>0.008157</td>\n",
       "    </tr>\n",
       "    <tr>\n",
       "      <th>1</th>\n",
       "      <td>funny</td>\n",
       "      <td>Mitoni</td>\n",
       "      <td>I finally understand why the Civ games are so ...</td>\n",
       "      <td>2100.0</td>\n",
       "      <td>0.046481</td>\n",
       "      <td>0.005644</td>\n",
       "      <td>0.020174</td>\n",
       "      <td>0.003074</td>\n",
       "      <td>0.023335</td>\n",
       "      <td>0.007403</td>\n",
       "    </tr>\n",
       "    <tr>\n",
       "      <th>2</th>\n",
       "      <td>funny</td>\n",
       "      <td>B0Boman</td>\n",
       "      <td>It appeals to the male fantasy. Also the femal...</td>\n",
       "      <td>852.0</td>\n",
       "      <td>0.077050</td>\n",
       "      <td>0.006803</td>\n",
       "      <td>0.035094</td>\n",
       "      <td>0.002840</td>\n",
       "      <td>0.028378</td>\n",
       "      <td>0.009588</td>\n",
       "    </tr>\n",
       "    <tr>\n",
       "      <th>3</th>\n",
       "      <td>funny</td>\n",
       "      <td>Scottyjscizzle</td>\n",
       "      <td>Men only want one thing, and it's disgusting! ...</td>\n",
       "      <td>976.0</td>\n",
       "      <td>0.106791</td>\n",
       "      <td>0.004696</td>\n",
       "      <td>0.031197</td>\n",
       "      <td>0.002826</td>\n",
       "      <td>0.028595</td>\n",
       "      <td>0.008310</td>\n",
       "    </tr>\n",
       "    <tr>\n",
       "      <th>4</th>\n",
       "      <td>funny</td>\n",
       "      <td>girlsgoneoscarwilde</td>\n",
       "      <td>Science Victory or nothing.  We’re either gett...</td>\n",
       "      <td>533.0</td>\n",
       "      <td>0.085482</td>\n",
       "      <td>0.007242</td>\n",
       "      <td>0.041105</td>\n",
       "      <td>0.003002</td>\n",
       "      <td>0.030276</td>\n",
       "      <td>0.007264</td>\n",
       "    </tr>\n",
       "  </tbody>\n",
       "</table>\n",
       "</div>"
      ],
      "text/plain": [
       "  subreddit                 user  \\\n",
       "0     funny      twowordsdefault   \n",
       "1     funny               Mitoni   \n",
       "2     funny              B0Boman   \n",
       "3     funny       Scottyjscizzle   \n",
       "4     funny  girlsgoneoscarwilde   \n",
       "\n",
       "                                             comment   score     toxic  \\\n",
       "0  I pretend I can manage and organize an entire ...  5737.0  0.085211   \n",
       "1  I finally understand why the Civ games are so ...  2100.0  0.046481   \n",
       "2  It appeals to the male fantasy. Also the femal...   852.0  0.077050   \n",
       "3  Men only want one thing, and it's disgusting! ...   976.0  0.106791   \n",
       "4  Science Victory or nothing.  We’re either gett...   533.0  0.085482   \n",
       "\n",
       "   severe_toxic   obscene    threat    insult  identity_hate  \n",
       "0      0.006877  0.034166  0.003244  0.031389       0.008157  \n",
       "1      0.005644  0.020174  0.003074  0.023335       0.007403  \n",
       "2      0.006803  0.035094  0.002840  0.028378       0.009588  \n",
       "3      0.004696  0.031197  0.002826  0.028595       0.008310  \n",
       "4      0.007242  0.041105  0.003002  0.030276       0.007264  "
      ]
     },
     "execution_count": 4,
     "metadata": {},
     "output_type": "execute_result"
    }
   ],
   "source": [
    "df.head()"
   ]
  },
  {
   "cell_type": "code",
   "execution_count": 5,
   "metadata": {},
   "outputs": [],
   "source": [
    "sub = df[df.subreddit==\"funny\"]\n",
    "users = sub.user\n",
    "unq = users.unique()"
   ]
  },
  {
   "cell_type": "code",
   "execution_count": 28,
   "metadata": {},
   "outputs": [],
   "source": [
    "dups = sub.duplicated(subset=['user'], keep=False)"
   ]
  },
  {
   "cell_type": "code",
   "execution_count": 29,
   "metadata": {},
   "outputs": [],
   "source": [
    "mul_users = sub[dups]"
   ]
  },
  {
   "cell_type": "code",
   "execution_count": 30,
   "metadata": {},
   "outputs": [
    {
     "data": {
      "text/plain": [
       "6703"
      ]
     },
     "execution_count": 30,
     "metadata": {},
     "output_type": "execute_result"
    }
   ],
   "source": [
    "len(mul_users['user'].unique())"
   ]
  },
  {
   "cell_type": "code",
   "execution_count": 35,
   "metadata": {},
   "outputs": [
    {
     "data": {
      "text/plain": [
       "(19224, 10)"
      ]
     },
     "execution_count": 35,
     "metadata": {},
     "output_type": "execute_result"
    }
   ],
   "source": [
    "mul_users.shape"
   ]
  },
  {
   "cell_type": "code",
   "execution_count": 58,
   "metadata": {},
   "outputs": [],
   "source": [
    "toxic = mul_users[(mul_users['toxic']>0.5) | (mul_users['severe_toxic']>0.5)\\\n",
    "                  | (mul_users['obscene']>0.5) | (mul_users['threat']>0.5) \\\n",
    "                  | (mul_users['insult']>0.5) | (mul_users['identity_hate']>0.5)]"
   ]
  },
  {
   "cell_type": "code",
   "execution_count": 73,
   "metadata": {},
   "outputs": [
    {
     "data": {
      "text/plain": [
       "(1018, 10)"
      ]
     },
     "execution_count": 73,
     "metadata": {},
     "output_type": "execute_result"
    }
   ],
   "source": [
    "toxic.shape"
   ]
  },
  {
   "cell_type": "code",
   "execution_count": 77,
   "metadata": {
    "scrolled": true
   },
   "outputs": [
    {
     "data": {
      "text/plain": [
       "891"
      ]
     },
     "execution_count": 77,
     "metadata": {},
     "output_type": "execute_result"
    }
   ],
   "source": [
    "len(toxic.user.unique())"
   ]
  },
  {
   "cell_type": "code",
   "execution_count": 78,
   "metadata": {
    "scrolled": true
   },
   "outputs": [
    {
     "data": {
      "text/plain": [
       "178.20000000000002"
      ]
     },
     "execution_count": 78,
     "metadata": {},
     "output_type": "execute_result"
    }
   ],
   "source": [
    "0.2*891"
   ]
  },
  {
   "cell_type": "code",
   "execution_count": 87,
   "metadata": {},
   "outputs": [],
   "source": [
    "most_toxic_users = toxic.user.value_counts()"
   ]
  },
  {
   "cell_type": "code",
   "execution_count": 95,
   "metadata": {},
   "outputs": [
    {
     "data": {
      "text/plain": [
       "306"
      ]
     },
     "execution_count": 95,
     "metadata": {},
     "output_type": "execute_result"
    }
   ],
   "source": [
    "most_toxic_users[0:179].sum()"
   ]
  },
  {
   "cell_type": "markdown",
   "metadata": {},
   "source": [
    "20% of the users are resposible for more than 30% of the toxcity"
   ]
  }
 ],
 "metadata": {
  "kernelspec": {
   "display_name": "Python 3",
   "language": "python",
   "name": "python3"
  },
  "language_info": {
   "codemirror_mode": {
    "name": "ipython",
    "version": 3
   },
   "file_extension": ".py",
   "mimetype": "text/x-python",
   "name": "python",
   "nbconvert_exporter": "python",
   "pygments_lexer": "ipython3",
   "version": "3.6.5"
  }
 },
 "nbformat": 4,
 "nbformat_minor": 2
}
