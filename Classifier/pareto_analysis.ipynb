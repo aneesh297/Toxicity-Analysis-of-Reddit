{
 "cells": [
  {
   "cell_type": "code",
   "execution_count": 2,
   "metadata": {},
   "outputs": [],
   "source": [
    "import pandas as pd\n",
    "%matplotlib inline"
   ]
  },
  {
   "cell_type": "code",
   "execution_count": 3,
   "metadata": {},
   "outputs": [],
   "source": [
    "path = r\"C:\\Users\\anees\\Documents\\CS\\MP\\datasets\\toxic200.csv\""
   ]
  },
  {
   "cell_type": "code",
   "execution_count": 4,
   "metadata": {},
   "outputs": [],
   "source": [
    "df = pd.read_csv(path)"
   ]
  },
  {
   "cell_type": "code",
   "execution_count": 5,
   "metadata": {},
   "outputs": [
    {
     "data": {
      "text/html": [
       "<div>\n",
       "<style scoped>\n",
       "    .dataframe tbody tr th:only-of-type {\n",
       "        vertical-align: middle;\n",
       "    }\n",
       "\n",
       "    .dataframe tbody tr th {\n",
       "        vertical-align: top;\n",
       "    }\n",
       "\n",
       "    .dataframe thead th {\n",
       "        text-align: right;\n",
       "    }\n",
       "</style>\n",
       "<table border=\"1\" class=\"dataframe\">\n",
       "  <thead>\n",
       "    <tr style=\"text-align: right;\">\n",
       "      <th></th>\n",
       "      <th>subreddit</th>\n",
       "      <th>user</th>\n",
       "      <th>comment</th>\n",
       "      <th>score</th>\n",
       "      <th>toxic</th>\n",
       "      <th>severe_toxic</th>\n",
       "      <th>obscene</th>\n",
       "      <th>threat</th>\n",
       "      <th>insult</th>\n",
       "      <th>identity_hate</th>\n",
       "    </tr>\n",
       "  </thead>\n",
       "  <tbody>\n",
       "    <tr>\n",
       "      <th>0</th>\n",
       "      <td>funny</td>\n",
       "      <td>papa_mike2</td>\n",
       "      <td>At least check the mail while you’re down ther...</td>\n",
       "      <td>10749.0</td>\n",
       "      <td>0.157311</td>\n",
       "      <td>0.009696</td>\n",
       "      <td>0.047384</td>\n",
       "      <td>0.004702</td>\n",
       "      <td>0.063968</td>\n",
       "      <td>0.010792</td>\n",
       "    </tr>\n",
       "    <tr>\n",
       "      <th>1</th>\n",
       "      <td>funny</td>\n",
       "      <td>notagoodboye</td>\n",
       "      <td>He missed cracking his head open on that littl...</td>\n",
       "      <td>14585.0</td>\n",
       "      <td>0.261358</td>\n",
       "      <td>0.012234</td>\n",
       "      <td>0.101802</td>\n",
       "      <td>0.004397</td>\n",
       "      <td>0.111198</td>\n",
       "      <td>0.010935</td>\n",
       "    </tr>\n",
       "    <tr>\n",
       "      <th>2</th>\n",
       "      <td>funny</td>\n",
       "      <td>Rati0h</td>\n",
       "      <td>I’ve never seen shoes leave a mans body as vio...</td>\n",
       "      <td>7169.0</td>\n",
       "      <td>0.162274</td>\n",
       "      <td>0.008894</td>\n",
       "      <td>0.063053</td>\n",
       "      <td>0.003678</td>\n",
       "      <td>0.060360</td>\n",
       "      <td>0.008355</td>\n",
       "    </tr>\n",
       "    <tr>\n",
       "      <th>3</th>\n",
       "      <td>funny</td>\n",
       "      <td>whezel</td>\n",
       "      <td>“I didn’t fuckin do it on purpose” is the best...</td>\n",
       "      <td>16282.0</td>\n",
       "      <td>0.231648</td>\n",
       "      <td>0.026019</td>\n",
       "      <td>0.244111</td>\n",
       "      <td>0.004844</td>\n",
       "      <td>0.099483</td>\n",
       "      <td>0.015420</td>\n",
       "    </tr>\n",
       "    <tr>\n",
       "      <th>4</th>\n",
       "      <td>funny</td>\n",
       "      <td>MB8189</td>\n",
       "      <td>The audio is perfect, “didn’t fucking do it on...</td>\n",
       "      <td>2380.0</td>\n",
       "      <td>0.754907</td>\n",
       "      <td>0.050535</td>\n",
       "      <td>0.737739</td>\n",
       "      <td>0.007555</td>\n",
       "      <td>0.284087</td>\n",
       "      <td>0.023018</td>\n",
       "    </tr>\n",
       "  </tbody>\n",
       "</table>\n",
       "</div>"
      ],
      "text/plain": [
       "  subreddit          user                                            comment  \\\n",
       "0     funny    papa_mike2  At least check the mail while you’re down ther...   \n",
       "1     funny  notagoodboye  He missed cracking his head open on that littl...   \n",
       "2     funny        Rati0h  I’ve never seen shoes leave a mans body as vio...   \n",
       "3     funny        whezel  “I didn’t fuckin do it on purpose” is the best...   \n",
       "4     funny        MB8189  The audio is perfect, “didn’t fucking do it on...   \n",
       "\n",
       "     score     toxic  severe_toxic   obscene    threat    insult  \\\n",
       "0  10749.0  0.157311      0.009696  0.047384  0.004702  0.063968   \n",
       "1  14585.0  0.261358      0.012234  0.101802  0.004397  0.111198   \n",
       "2   7169.0  0.162274      0.008894  0.063053  0.003678  0.060360   \n",
       "3  16282.0  0.231648      0.026019  0.244111  0.004844  0.099483   \n",
       "4   2380.0  0.754907      0.050535  0.737739  0.007555  0.284087   \n",
       "\n",
       "   identity_hate  \n",
       "0       0.010792  \n",
       "1       0.010935  \n",
       "2       0.008355  \n",
       "3       0.015420  \n",
       "4       0.023018  "
      ]
     },
     "execution_count": 5,
     "metadata": {},
     "output_type": "execute_result"
    }
   ],
   "source": [
    "df.head()"
   ]
  },
  {
   "cell_type": "code",
   "execution_count": 17,
   "metadata": {},
   "outputs": [],
   "source": [
    "sub = df[df.subreddit==\"funny\"]\n",
    "users = sub.user\n",
    "unq = users.unique()"
   ]
  },
  {
   "cell_type": "code",
   "execution_count": 18,
   "metadata": {},
   "outputs": [
    {
     "data": {
      "text/plain": [
       "1825"
      ]
     },
     "execution_count": 18,
     "metadata": {},
     "output_type": "execute_result"
    }
   ],
   "source": [
    "len(unq)"
   ]
  },
  {
   "cell_type": "code",
   "execution_count": 14,
   "metadata": {},
   "outputs": [],
   "source": []
  },
  {
   "cell_type": "code",
   "execution_count": 16,
   "metadata": {},
   "outputs": [
    {
     "data": {
      "text/plain": [
       "1825"
      ]
     },
     "execution_count": 16,
     "metadata": {},
     "output_type": "execute_result"
    }
   ],
   "source": []
  },
  {
   "cell_type": "code",
   "execution_count": null,
   "metadata": {},
   "outputs": [],
   "source": []
  }
 ],
 "metadata": {
  "kernelspec": {
   "display_name": "Python 3",
   "language": "python",
   "name": "python3"
  },
  "language_info": {
   "codemirror_mode": {
    "name": "ipython",
    "version": 3
   },
   "file_extension": ".py",
   "mimetype": "text/x-python",
   "name": "python",
   "nbconvert_exporter": "python",
   "pygments_lexer": "ipython3",
   "version": "3.6.5"
  }
 },
 "nbformat": 4,
 "nbformat_minor": 2
}
