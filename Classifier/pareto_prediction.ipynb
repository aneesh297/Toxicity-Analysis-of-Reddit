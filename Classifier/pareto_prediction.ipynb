{
 "cells": [
  {
   "cell_type": "code",
   "execution_count": 1,
   "metadata": {},
   "outputs": [],
   "source": [
    "import pandas as pd\n",
    "%matplotlib inline"
   ]
  },
  {
   "cell_type": "code",
   "execution_count": 2,
   "metadata": {},
   "outputs": [],
   "source": [
    "path = r\"C:\\Users\\anees\\Documents\\CS\\MP\\datasets\\2000c_200sub.csv\""
   ]
  },
  {
   "cell_type": "code",
   "execution_count": 3,
   "metadata": {},
   "outputs": [],
   "source": [
    "df = pd.read_csv(path)"
   ]
  },
  {
   "cell_type": "code",
   "execution_count": 4,
   "metadata": {},
   "outputs": [
    {
     "data": {
      "text/html": [
       "<div>\n",
       "<style scoped>\n",
       "    .dataframe tbody tr th:only-of-type {\n",
       "        vertical-align: middle;\n",
       "    }\n",
       "\n",
       "    .dataframe tbody tr th {\n",
       "        vertical-align: top;\n",
       "    }\n",
       "\n",
       "    .dataframe thead th {\n",
       "        text-align: right;\n",
       "    }\n",
       "</style>\n",
       "<table border=\"1\" class=\"dataframe\">\n",
       "  <thead>\n",
       "    <tr style=\"text-align: right;\">\n",
       "      <th></th>\n",
       "      <th>subreddit</th>\n",
       "      <th>user</th>\n",
       "      <th>comment</th>\n",
       "      <th>score</th>\n",
       "    </tr>\n",
       "  </thead>\n",
       "  <tbody>\n",
       "    <tr>\n",
       "      <th>0</th>\n",
       "      <td>funny</td>\n",
       "      <td>papa_mike2</td>\n",
       "      <td>At least check the mail while you’re down ther...</td>\n",
       "      <td>10749.0</td>\n",
       "    </tr>\n",
       "    <tr>\n",
       "      <th>1</th>\n",
       "      <td>funny</td>\n",
       "      <td>notagoodboye</td>\n",
       "      <td>He missed cracking his head open on that littl...</td>\n",
       "      <td>14585.0</td>\n",
       "    </tr>\n",
       "    <tr>\n",
       "      <th>2</th>\n",
       "      <td>funny</td>\n",
       "      <td>Rati0h</td>\n",
       "      <td>I’ve never seen shoes leave a mans body as vio...</td>\n",
       "      <td>7169.0</td>\n",
       "    </tr>\n",
       "    <tr>\n",
       "      <th>3</th>\n",
       "      <td>funny</td>\n",
       "      <td>whezel</td>\n",
       "      <td>“I didn’t fuckin do it on purpose” is the best...</td>\n",
       "      <td>16282.0</td>\n",
       "    </tr>\n",
       "    <tr>\n",
       "      <th>4</th>\n",
       "      <td>funny</td>\n",
       "      <td>MB8189</td>\n",
       "      <td>The audio is perfect, “didn’t fucking do it on...</td>\n",
       "      <td>2380.0</td>\n",
       "    </tr>\n",
       "  </tbody>\n",
       "</table>\n",
       "</div>"
      ],
      "text/plain": [
       "  subreddit          user                                            comment  \\\n",
       "0     funny    papa_mike2  At least check the mail while you’re down ther...   \n",
       "1     funny  notagoodboye  He missed cracking his head open on that littl...   \n",
       "2     funny        Rati0h  I’ve never seen shoes leave a mans body as vio...   \n",
       "3     funny        whezel  “I didn’t fuckin do it on purpose” is the best...   \n",
       "4     funny        MB8189  The audio is perfect, “didn’t fucking do it on...   \n",
       "\n",
       "     score  \n",
       "0  10749.0  \n",
       "1  14585.0  \n",
       "2   7169.0  \n",
       "3  16282.0  \n",
       "4   2380.0  "
      ]
     },
     "execution_count": 4,
     "metadata": {},
     "output_type": "execute_result"
    }
   ],
   "source": [
    "df.head()"
   ]
  },
  {
   "cell_type": "code",
   "execution_count": 5,
   "metadata": {},
   "outputs": [],
   "source": [
    "from sklearn.externals import joblib\n",
    "from sklearn.feature_extraction.text import TfidfVectorizer\n",
    "from scipy.sparse import hstack\n",
    "import pickle"
   ]
  },
  {
   "cell_type": "code",
   "execution_count": 6,
   "metadata": {},
   "outputs": [],
   "source": [
    "classifiers = []\n",
    "for i in range(6):\n",
    "    classifiers.append(joblib.load(\"lr_char_\" + str(i) + \".joblib\"))"
   ]
  },
  {
   "cell_type": "code",
   "execution_count": 7,
   "metadata": {},
   "outputs": [],
   "source": [
    "word_vectorizer = TfidfVectorizer(\n",
    "    sublinear_tf=True,\n",
    "    strip_accents='unicode',\n",
    "    analyzer='word',\n",
    "    token_pattern=r'\\w{1,}',\n",
    "    stop_words='english',\n",
    "    ngram_range=(1, 1),\n",
    "    max_features=10000)\n",
    "char_vectorizer = TfidfVectorizer(\n",
    "    sublinear_tf=True,\n",
    "    strip_accents='unicode',\n",
    "    analyzer='char',\n",
    "    stop_words='english',\n",
    "    ngram_range=(2, 6),\n",
    "    max_features=50000)"
   ]
  },
  {
   "cell_type": "code",
   "execution_count": 8,
   "metadata": {},
   "outputs": [],
   "source": [
    "word_vectorizer = pickle.load(open(\"word_vectorizer.pickle\",'rb'))\n",
    "char_vectorizer = pickle.load(open(\"char_vectorizer.pickle\",'rb'))"
   ]
  },
  {
   "cell_type": "code",
   "execution_count": 12,
   "metadata": {},
   "outputs": [],
   "source": [
    "df = df.dropna()"
   ]
  },
  {
   "cell_type": "code",
   "execution_count": 14,
   "metadata": {
    "scrolled": true
   },
   "outputs": [
    {
     "name": "stdout",
     "output_type": "stream",
     "text": [
      "generating word features\n",
      "creating char features\n",
      "done\n"
     ]
    }
   ],
   "source": [
    "print(\"generating word features\")\n",
    "df_wordfeat = word_vectorizer.transform(df.comment)\n",
    "print(\"creating char features\")\n",
    "df_charfeat = char_vectorizer.transform(df.comment)\n",
    "print(\"done\")\n",
    "df_feat = hstack([df_charfeat, df_wordfeat])"
   ]
  },
  {
   "cell_type": "code",
   "execution_count": 15,
   "metadata": {},
   "outputs": [],
   "source": [
    "class_names = ['toxic', 'severe_toxic', 'obscene', 'threat', 'insult', 'identity_hate']"
   ]
  },
  {
   "cell_type": "code",
   "execution_count": 16,
   "metadata": {},
   "outputs": [],
   "source": [
    "df['toxic'] = 0\n",
    "df['severe_toxic'] = 0\n",
    "df['obscene'] = 0\n",
    "df['threat'] = 0\n",
    "df['insult'] = 0\n",
    "df['identity_hate'] = 0"
   ]
  },
  {
   "cell_type": "code",
   "execution_count": 17,
   "metadata": {},
   "outputs": [],
   "source": [
    "i = 0\n",
    "for class_name in class_names:\n",
    "    df[class_name] = classifiers[i].predict_proba(df_feat)[:,1]\n",
    "    i+=1"
   ]
  },
  {
   "cell_type": "code",
   "execution_count": 18,
   "metadata": {},
   "outputs": [
    {
     "data": {
      "text/html": [
       "<div>\n",
       "<style scoped>\n",
       "    .dataframe tbody tr th:only-of-type {\n",
       "        vertical-align: middle;\n",
       "    }\n",
       "\n",
       "    .dataframe tbody tr th {\n",
       "        vertical-align: top;\n",
       "    }\n",
       "\n",
       "    .dataframe thead th {\n",
       "        text-align: right;\n",
       "    }\n",
       "</style>\n",
       "<table border=\"1\" class=\"dataframe\">\n",
       "  <thead>\n",
       "    <tr style=\"text-align: right;\">\n",
       "      <th></th>\n",
       "      <th>score</th>\n",
       "      <th>toxic</th>\n",
       "      <th>severe_toxic</th>\n",
       "      <th>obscene</th>\n",
       "      <th>threat</th>\n",
       "      <th>insult</th>\n",
       "      <th>identity_hate</th>\n",
       "    </tr>\n",
       "  </thead>\n",
       "  <tbody>\n",
       "    <tr>\n",
       "      <th>count</th>\n",
       "      <td>390586.000000</td>\n",
       "      <td>390586.000000</td>\n",
       "      <td>390586.000000</td>\n",
       "      <td>390586.000000</td>\n",
       "      <td>390586.000000</td>\n",
       "      <td>390586.000000</td>\n",
       "      <td>390586.000000</td>\n",
       "    </tr>\n",
       "    <tr>\n",
       "      <th>mean</th>\n",
       "      <td>81.013418</td>\n",
       "      <td>0.125756</td>\n",
       "      <td>0.009367</td>\n",
       "      <td>0.064549</td>\n",
       "      <td>0.003518</td>\n",
       "      <td>0.050982</td>\n",
       "      <td>0.009867</td>\n",
       "    </tr>\n",
       "    <tr>\n",
       "      <th>std</th>\n",
       "      <td>736.857267</td>\n",
       "      <td>0.156182</td>\n",
       "      <td>0.024595</td>\n",
       "      <td>0.130917</td>\n",
       "      <td>0.003763</td>\n",
       "      <td>0.082617</td>\n",
       "      <td>0.011639</td>\n",
       "    </tr>\n",
       "    <tr>\n",
       "      <th>min</th>\n",
       "      <td>-1204.000000</td>\n",
       "      <td>0.002332</td>\n",
       "      <td>0.000868</td>\n",
       "      <td>0.002535</td>\n",
       "      <td>0.000851</td>\n",
       "      <td>0.002098</td>\n",
       "      <td>0.001703</td>\n",
       "    </tr>\n",
       "    <tr>\n",
       "      <th>25%</th>\n",
       "      <td>1.000000</td>\n",
       "      <td>0.050795</td>\n",
       "      <td>0.004893</td>\n",
       "      <td>0.023822</td>\n",
       "      <td>0.002601</td>\n",
       "      <td>0.022348</td>\n",
       "      <td>0.006725</td>\n",
       "    </tr>\n",
       "    <tr>\n",
       "      <th>50%</th>\n",
       "      <td>4.000000</td>\n",
       "      <td>0.076973</td>\n",
       "      <td>0.006297</td>\n",
       "      <td>0.032371</td>\n",
       "      <td>0.003059</td>\n",
       "      <td>0.031116</td>\n",
       "      <td>0.008339</td>\n",
       "    </tr>\n",
       "    <tr>\n",
       "      <th>75%</th>\n",
       "      <td>16.000000</td>\n",
       "      <td>0.124978</td>\n",
       "      <td>0.008201</td>\n",
       "      <td>0.046723</td>\n",
       "      <td>0.003630</td>\n",
       "      <td>0.046098</td>\n",
       "      <td>0.010387</td>\n",
       "    </tr>\n",
       "    <tr>\n",
       "      <th>max</th>\n",
       "      <td>84143.000000</td>\n",
       "      <td>0.999986</td>\n",
       "      <td>0.885255</td>\n",
       "      <td>0.999992</td>\n",
       "      <td>0.340690</td>\n",
       "      <td>0.999421</td>\n",
       "      <td>0.815637</td>\n",
       "    </tr>\n",
       "  </tbody>\n",
       "</table>\n",
       "</div>"
      ],
      "text/plain": [
       "               score          toxic   severe_toxic        obscene  \\\n",
       "count  390586.000000  390586.000000  390586.000000  390586.000000   \n",
       "mean       81.013418       0.125756       0.009367       0.064549   \n",
       "std       736.857267       0.156182       0.024595       0.130917   \n",
       "min     -1204.000000       0.002332       0.000868       0.002535   \n",
       "25%         1.000000       0.050795       0.004893       0.023822   \n",
       "50%         4.000000       0.076973       0.006297       0.032371   \n",
       "75%        16.000000       0.124978       0.008201       0.046723   \n",
       "max     84143.000000       0.999986       0.885255       0.999992   \n",
       "\n",
       "              threat         insult  identity_hate  \n",
       "count  390586.000000  390586.000000  390586.000000  \n",
       "mean        0.003518       0.050982       0.009867  \n",
       "std         0.003763       0.082617       0.011639  \n",
       "min         0.000851       0.002098       0.001703  \n",
       "25%         0.002601       0.022348       0.006725  \n",
       "50%         0.003059       0.031116       0.008339  \n",
       "75%         0.003630       0.046098       0.010387  \n",
       "max         0.340690       0.999421       0.815637  "
      ]
     },
     "execution_count": 18,
     "metadata": {},
     "output_type": "execute_result"
    }
   ],
   "source": [
    "df.describe()"
   ]
  },
  {
   "cell_type": "code",
   "execution_count": 19,
   "metadata": {},
   "outputs": [],
   "source": [
    "df.to_csv(\"toxic200.csv\", index=False)"
   ]
  },
  {
   "cell_type": "code",
   "execution_count": null,
   "metadata": {},
   "outputs": [],
   "source": []
  }
 ],
 "metadata": {
  "kernelspec": {
   "display_name": "Python 3",
   "language": "python",
   "name": "python3"
  },
  "language_info": {
   "codemirror_mode": {
    "name": "ipython",
    "version": 3
   },
   "file_extension": ".py",
   "mimetype": "text/x-python",
   "name": "python",
   "nbconvert_exporter": "python",
   "pygments_lexer": "ipython3",
   "version": "3.6.5"
  }
 },
 "nbformat": 4,
 "nbformat_minor": 2
}
