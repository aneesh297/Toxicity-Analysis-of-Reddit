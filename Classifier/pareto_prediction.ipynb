{
 "cells": [
  {
   "cell_type": "code",
   "execution_count": 1,
   "metadata": {},
   "outputs": [],
   "source": [
    "import pandas as pd\n",
    "%matplotlib inline"
   ]
  },
  {
   "cell_type": "code",
   "execution_count": 2,
   "metadata": {},
   "outputs": [],
   "source": [
    "path = r\"C:\\Users\\anees\\Documents\\CS\\MP\\datasets\\100k.csv\""
   ]
  },
  {
   "cell_type": "code",
   "execution_count": 3,
   "metadata": {},
   "outputs": [],
   "source": [
    "df = pd.read_csv(path)"
   ]
  },
  {
   "cell_type": "code",
   "execution_count": 4,
   "metadata": {
    "scrolled": true
   },
   "outputs": [
    {
     "data": {
      "text/html": [
       "<div>\n",
       "<style scoped>\n",
       "    .dataframe tbody tr th:only-of-type {\n",
       "        vertical-align: middle;\n",
       "    }\n",
       "\n",
       "    .dataframe tbody tr th {\n",
       "        vertical-align: top;\n",
       "    }\n",
       "\n",
       "    .dataframe thead th {\n",
       "        text-align: right;\n",
       "    }\n",
       "</style>\n",
       "<table border=\"1\" class=\"dataframe\">\n",
       "  <thead>\n",
       "    <tr style=\"text-align: right;\">\n",
       "      <th></th>\n",
       "      <th>subreddit</th>\n",
       "      <th>user</th>\n",
       "      <th>comment</th>\n",
       "      <th>score</th>\n",
       "    </tr>\n",
       "  </thead>\n",
       "  <tbody>\n",
       "    <tr>\n",
       "      <th>0</th>\n",
       "      <td>funny</td>\n",
       "      <td>twowordsdefault</td>\n",
       "      <td>I pretend I can manage and organize an entire ...</td>\n",
       "      <td>5737.0</td>\n",
       "    </tr>\n",
       "    <tr>\n",
       "      <th>1</th>\n",
       "      <td>funny</td>\n",
       "      <td>Mitoni</td>\n",
       "      <td>I finally understand why the Civ games are so ...</td>\n",
       "      <td>2100.0</td>\n",
       "    </tr>\n",
       "    <tr>\n",
       "      <th>2</th>\n",
       "      <td>funny</td>\n",
       "      <td>B0Boman</td>\n",
       "      <td>It appeals to the male fantasy. Also the femal...</td>\n",
       "      <td>852.0</td>\n",
       "    </tr>\n",
       "    <tr>\n",
       "      <th>3</th>\n",
       "      <td>funny</td>\n",
       "      <td>Scottyjscizzle</td>\n",
       "      <td>Men only want one thing, and it's disgusting! ...</td>\n",
       "      <td>976.0</td>\n",
       "    </tr>\n",
       "    <tr>\n",
       "      <th>4</th>\n",
       "      <td>funny</td>\n",
       "      <td>girlsgoneoscarwilde</td>\n",
       "      <td>Science Victory or nothing.  We’re either gett...</td>\n",
       "      <td>533.0</td>\n",
       "    </tr>\n",
       "  </tbody>\n",
       "</table>\n",
       "</div>"
      ],
      "text/plain": [
       "  subreddit                 user  \\\n",
       "0     funny      twowordsdefault   \n",
       "1     funny               Mitoni   \n",
       "2     funny              B0Boman   \n",
       "3     funny       Scottyjscizzle   \n",
       "4     funny  girlsgoneoscarwilde   \n",
       "\n",
       "                                             comment   score  \n",
       "0  I pretend I can manage and organize an entire ...  5737.0  \n",
       "1  I finally understand why the Civ games are so ...  2100.0  \n",
       "2  It appeals to the male fantasy. Also the femal...   852.0  \n",
       "3  Men only want one thing, and it's disgusting! ...   976.0  \n",
       "4  Science Victory or nothing.  We’re either gett...   533.0  "
      ]
     },
     "execution_count": 4,
     "metadata": {},
     "output_type": "execute_result"
    }
   ],
   "source": [
    "df.head()"
   ]
  },
  {
   "cell_type": "code",
   "execution_count": 11,
   "metadata": {},
   "outputs": [
    {
     "data": {
      "text/plain": [
       "(559986, 4)"
      ]
     },
     "execution_count": 11,
     "metadata": {},
     "output_type": "execute_result"
    }
   ],
   "source": [
    "df.shape"
   ]
  },
  {
   "cell_type": "code",
   "execution_count": 5,
   "metadata": {},
   "outputs": [],
   "source": [
    "from sklearn.externals import joblib\n",
    "from sklearn.feature_extraction.text import TfidfVectorizer\n",
    "from scipy.sparse import hstack\n",
    "import pickle"
   ]
  },
  {
   "cell_type": "code",
   "execution_count": 6,
   "metadata": {},
   "outputs": [],
   "source": [
    "classifiers = []\n",
    "for i in range(6):\n",
    "    classifiers.append(joblib.load(\"lr_char_\" + str(i) + \".joblib\"))"
   ]
  },
  {
   "cell_type": "code",
   "execution_count": 8,
   "metadata": {},
   "outputs": [],
   "source": [
    "word_vectorizer = TfidfVectorizer(\n",
    "    sublinear_tf=True,\n",
    "    strip_accents='unicode',\n",
    "    analyzer='word',\n",
    "    token_pattern=r'\\w{1,}',\n",
    "    stop_words='english',\n",
    "    ngram_range=(1, 1),\n",
    "    max_features=10000)\n",
    "char_vectorizer = TfidfVectorizer(\n",
    "    sublinear_tf=True,\n",
    "    strip_accents='unicode',\n",
    "    analyzer='char',\n",
    "    stop_words='english',\n",
    "    ngram_range=(2, 6),\n",
    "    max_features=50000)"
   ]
  },
  {
   "cell_type": "code",
   "execution_count": 9,
   "metadata": {},
   "outputs": [],
   "source": [
    "word_vectorizer = pickle.load(open(\"word_vectorizer.pickle\",'rb'))\n",
    "char_vectorizer = pickle.load(open(\"char_vectorizer.pickle\",'rb'))"
   ]
  },
  {
   "cell_type": "code",
   "execution_count": 10,
   "metadata": {},
   "outputs": [],
   "source": [
    "df = df.dropna()"
   ]
  },
  {
   "cell_type": "code",
   "execution_count": 12,
   "metadata": {
    "scrolled": true
   },
   "outputs": [
    {
     "name": "stdout",
     "output_type": "stream",
     "text": [
      "generating word features\n",
      "creating char features\n",
      "done\n"
     ]
    }
   ],
   "source": [
    "print(\"generating word features\")\n",
    "df_wordfeat = word_vectorizer.transform(df.comment)\n",
    "print(\"creating char features\")\n",
    "df_charfeat = char_vectorizer.transform(df.comment)\n",
    "print(\"done\")\n",
    "df_feat = hstack([df_charfeat, df_wordfeat])"
   ]
  },
  {
   "cell_type": "code",
   "execution_count": 13,
   "metadata": {},
   "outputs": [],
   "source": [
    "df_charfeat = []\n",
    "df_wordfeat = []"
   ]
  },
  {
   "cell_type": "code",
   "execution_count": 16,
   "metadata": {},
   "outputs": [],
   "source": [
    "class_names = ['toxic', 'severe_toxic', 'obscene', 'threat', 'insult', 'identity_hate']"
   ]
  },
  {
   "cell_type": "code",
   "execution_count": 17,
   "metadata": {},
   "outputs": [],
   "source": [
    "df['toxic'] = 0\n",
    "df['severe_toxic'] = 0\n",
    "df['obscene'] = 0\n",
    "df['threat'] = 0\n",
    "df['insult'] = 0\n",
    "df['identity_hate'] = 0"
   ]
  },
  {
   "cell_type": "code",
   "execution_count": 18,
   "metadata": {},
   "outputs": [],
   "source": [
    "i = 0\n",
    "for class_name in class_names:\n",
    "    df[class_name] = classifiers[i].predict_proba(df_feat)[:,1]\n",
    "    i+=1"
   ]
  },
  {
   "cell_type": "code",
   "execution_count": 19,
   "metadata": {},
   "outputs": [],
   "source": [
    "df_feat = 0"
   ]
  },
  {
   "cell_type": "code",
   "execution_count": 20,
   "metadata": {},
   "outputs": [
    {
     "data": {
      "text/html": [
       "<div>\n",
       "<style scoped>\n",
       "    .dataframe tbody tr th:only-of-type {\n",
       "        vertical-align: middle;\n",
       "    }\n",
       "\n",
       "    .dataframe tbody tr th {\n",
       "        vertical-align: top;\n",
       "    }\n",
       "\n",
       "    .dataframe thead th {\n",
       "        text-align: right;\n",
       "    }\n",
       "</style>\n",
       "<table border=\"1\" class=\"dataframe\">\n",
       "  <thead>\n",
       "    <tr style=\"text-align: right;\">\n",
       "      <th></th>\n",
       "      <th>score</th>\n",
       "      <th>toxic</th>\n",
       "      <th>severe_toxic</th>\n",
       "      <th>obscene</th>\n",
       "      <th>threat</th>\n",
       "      <th>insult</th>\n",
       "      <th>identity_hate</th>\n",
       "    </tr>\n",
       "  </thead>\n",
       "  <tbody>\n",
       "    <tr>\n",
       "      <th>count</th>\n",
       "      <td>559986.000000</td>\n",
       "      <td>559986.000000</td>\n",
       "      <td>559986.000000</td>\n",
       "      <td>559986.000000</td>\n",
       "      <td>559986.000000</td>\n",
       "      <td>559986.000000</td>\n",
       "      <td>559986.000000</td>\n",
       "    </tr>\n",
       "    <tr>\n",
       "      <th>mean</th>\n",
       "      <td>108.474133</td>\n",
       "      <td>0.130432</td>\n",
       "      <td>0.009693</td>\n",
       "      <td>0.067111</td>\n",
       "      <td>0.003554</td>\n",
       "      <td>0.053072</td>\n",
       "      <td>0.010072</td>\n",
       "    </tr>\n",
       "    <tr>\n",
       "      <th>std</th>\n",
       "      <td>1052.807643</td>\n",
       "      <td>0.161679</td>\n",
       "      <td>0.026782</td>\n",
       "      <td>0.136487</td>\n",
       "      <td>0.004020</td>\n",
       "      <td>0.087550</td>\n",
       "      <td>0.011501</td>\n",
       "    </tr>\n",
       "    <tr>\n",
       "      <th>min</th>\n",
       "      <td>-421.000000</td>\n",
       "      <td>0.002762</td>\n",
       "      <td>0.000936</td>\n",
       "      <td>0.002871</td>\n",
       "      <td>0.000937</td>\n",
       "      <td>0.002209</td>\n",
       "      <td>0.001746</td>\n",
       "    </tr>\n",
       "    <tr>\n",
       "      <th>25%</th>\n",
       "      <td>1.000000</td>\n",
       "      <td>0.051984</td>\n",
       "      <td>0.004887</td>\n",
       "      <td>0.023953</td>\n",
       "      <td>0.002601</td>\n",
       "      <td>0.022671</td>\n",
       "      <td>0.006815</td>\n",
       "    </tr>\n",
       "    <tr>\n",
       "      <th>50%</th>\n",
       "      <td>2.000000</td>\n",
       "      <td>0.078931</td>\n",
       "      <td>0.006290</td>\n",
       "      <td>0.032610</td>\n",
       "      <td>0.003057</td>\n",
       "      <td>0.031558</td>\n",
       "      <td>0.008442</td>\n",
       "    </tr>\n",
       "    <tr>\n",
       "      <th>75%</th>\n",
       "      <td>8.000000</td>\n",
       "      <td>0.129557</td>\n",
       "      <td>0.008222</td>\n",
       "      <td>0.047543</td>\n",
       "      <td>0.003643</td>\n",
       "      <td>0.047251</td>\n",
       "      <td>0.010561</td>\n",
       "    </tr>\n",
       "    <tr>\n",
       "      <th>max</th>\n",
       "      <td>75641.000000</td>\n",
       "      <td>0.999993</td>\n",
       "      <td>0.898372</td>\n",
       "      <td>0.999992</td>\n",
       "      <td>0.391820</td>\n",
       "      <td>0.999720</td>\n",
       "      <td>0.793385</td>\n",
       "    </tr>\n",
       "  </tbody>\n",
       "</table>\n",
       "</div>"
      ],
      "text/plain": [
       "               score          toxic   severe_toxic        obscene  \\\n",
       "count  559986.000000  559986.000000  559986.000000  559986.000000   \n",
       "mean      108.474133       0.130432       0.009693       0.067111   \n",
       "std      1052.807643       0.161679       0.026782       0.136487   \n",
       "min      -421.000000       0.002762       0.000936       0.002871   \n",
       "25%         1.000000       0.051984       0.004887       0.023953   \n",
       "50%         2.000000       0.078931       0.006290       0.032610   \n",
       "75%         8.000000       0.129557       0.008222       0.047543   \n",
       "max     75641.000000       0.999993       0.898372       0.999992   \n",
       "\n",
       "              threat         insult  identity_hate  \n",
       "count  559986.000000  559986.000000  559986.000000  \n",
       "mean        0.003554       0.053072       0.010072  \n",
       "std         0.004020       0.087550       0.011501  \n",
       "min         0.000937       0.002209       0.001746  \n",
       "25%         0.002601       0.022671       0.006815  \n",
       "50%         0.003057       0.031558       0.008442  \n",
       "75%         0.003643       0.047251       0.010561  \n",
       "max         0.391820       0.999720       0.793385  "
      ]
     },
     "execution_count": 20,
     "metadata": {},
     "output_type": "execute_result"
    }
   ],
   "source": [
    "df.describe()"
   ]
  },
  {
   "cell_type": "code",
   "execution_count": 21,
   "metadata": {},
   "outputs": [],
   "source": [
    "df.to_csv(\"top10toxic.csv\", index=False)"
   ]
  },
  {
   "cell_type": "code",
   "execution_count": null,
   "metadata": {},
   "outputs": [],
   "source": []
  }
 ],
 "metadata": {
  "kernelspec": {
   "display_name": "Python 3",
   "language": "python",
   "name": "python3"
  },
  "language_info": {
   "codemirror_mode": {
    "name": "ipython",
    "version": 3
   },
   "file_extension": ".py",
   "mimetype": "text/x-python",
   "name": "python",
   "nbconvert_exporter": "python",
   "pygments_lexer": "ipython3",
   "version": "3.6.5"
  }
 },
 "nbformat": 4,
 "nbformat_minor": 2
}
