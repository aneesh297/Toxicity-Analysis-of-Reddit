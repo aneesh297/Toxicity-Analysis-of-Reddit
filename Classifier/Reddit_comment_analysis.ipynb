{
 "cells": [
  {
   "cell_type": "code",
   "execution_count": 1,
   "metadata": {},
   "outputs": [],
   "source": [
    "import pandas as pd"
   ]
  },
  {
   "cell_type": "code",
   "execution_count": 3,
   "metadata": {},
   "outputs": [],
   "source": [
    "df = pd.read_csv('../Data Extraction/10subs_500.csv')"
   ]
  },
  {
   "cell_type": "code",
   "execution_count": 47,
   "metadata": {},
   "outputs": [
    {
     "data": {
      "text/html": [
       "<div>\n",
       "<style scoped>\n",
       "    .dataframe tbody tr th:only-of-type {\n",
       "        vertical-align: middle;\n",
       "    }\n",
       "\n",
       "    .dataframe tbody tr th {\n",
       "        vertical-align: top;\n",
       "    }\n",
       "\n",
       "    .dataframe thead th {\n",
       "        text-align: right;\n",
       "    }\n",
       "</style>\n",
       "<table border=\"1\" class=\"dataframe\">\n",
       "  <thead>\n",
       "    <tr style=\"text-align: right;\">\n",
       "      <th></th>\n",
       "      <th>comment</th>\n",
       "      <th>subreddit</th>\n",
       "      <th>toxic</th>\n",
       "      <th>severe_toxic</th>\n",
       "      <th>obscene</th>\n",
       "      <th>threat</th>\n",
       "      <th>insult</th>\n",
       "      <th>identity_hate</th>\n",
       "    </tr>\n",
       "  </thead>\n",
       "  <tbody>\n",
       "    <tr>\n",
       "      <th>0</th>\n",
       "      <td>&gt;I CAN’T BREATHE!\\r\\n\\r\\nNEITHER CAN SHE! LOL</td>\n",
       "      <td>the_donald</td>\n",
       "      <td>0.146345</td>\n",
       "      <td>0.007168</td>\n",
       "      <td>0.047354</td>\n",
       "      <td>0.003085</td>\n",
       "      <td>0.050958</td>\n",
       "      <td>0.009246</td>\n",
       "    </tr>\n",
       "    <tr>\n",
       "      <th>1</th>\n",
       "      <td>She will never go away.</td>\n",
       "      <td>the_donald</td>\n",
       "      <td>0.171063</td>\n",
       "      <td>0.009457</td>\n",
       "      <td>0.053309</td>\n",
       "      <td>0.006602</td>\n",
       "      <td>0.054556</td>\n",
       "      <td>0.010904</td>\n",
       "    </tr>\n",
       "    <tr>\n",
       "      <th>2</th>\n",
       "      <td>&gt; I’d Like to Be President\\r\\n\\r\\nHahah.  we k...</td>\n",
       "      <td>the_donald</td>\n",
       "      <td>0.089804</td>\n",
       "      <td>0.006587</td>\n",
       "      <td>0.032664</td>\n",
       "      <td>0.003291</td>\n",
       "      <td>0.043775</td>\n",
       "      <td>0.010575</td>\n",
       "    </tr>\n",
       "    <tr>\n",
       "      <th>3</th>\n",
       "      <td>Look at me.  Do it.  Do it.</td>\n",
       "      <td>the_donald</td>\n",
       "      <td>0.076816</td>\n",
       "      <td>0.006302</td>\n",
       "      <td>0.027850</td>\n",
       "      <td>0.003069</td>\n",
       "      <td>0.022476</td>\n",
       "      <td>0.007098</td>\n",
       "    </tr>\n",
       "    <tr>\n",
       "      <th>4</th>\n",
       "      <td>\"I think I can rig it better this time\"\\r\\n\\r\\n</td>\n",
       "      <td>the_donald</td>\n",
       "      <td>0.028194</td>\n",
       "      <td>0.004102</td>\n",
       "      <td>0.021048</td>\n",
       "      <td>0.002638</td>\n",
       "      <td>0.014183</td>\n",
       "      <td>0.004939</td>\n",
       "    </tr>\n",
       "  </tbody>\n",
       "</table>\n",
       "</div>"
      ],
      "text/plain": [
       "                                             comment   subreddit     toxic  \\\n",
       "0      >I CAN’T BREATHE!\\r\\n\\r\\nNEITHER CAN SHE! LOL  the_donald  0.146345   \n",
       "1                            She will never go away.  the_donald  0.171063   \n",
       "2  > I’d Like to Be President\\r\\n\\r\\nHahah.  we k...  the_donald  0.089804   \n",
       "3                        Look at me.  Do it.  Do it.  the_donald  0.076816   \n",
       "4    \"I think I can rig it better this time\"\\r\\n\\r\\n  the_donald  0.028194   \n",
       "\n",
       "   severe_toxic   obscene    threat    insult  identity_hate  \n",
       "0      0.007168  0.047354  0.003085  0.050958       0.009246  \n",
       "1      0.009457  0.053309  0.006602  0.054556       0.010904  \n",
       "2      0.006587  0.032664  0.003291  0.043775       0.010575  \n",
       "3      0.006302  0.027850  0.003069  0.022476       0.007098  \n",
       "4      0.004102  0.021048  0.002638  0.014183       0.004939  "
      ]
     },
     "execution_count": 47,
     "metadata": {},
     "output_type": "execute_result"
    }
   ],
   "source": [
    "df.head()"
   ]
  },
  {
   "cell_type": "code",
   "execution_count": 33,
   "metadata": {},
   "outputs": [],
   "source": [
    "classifiers = []"
   ]
  },
  {
   "cell_type": "code",
   "execution_count": 6,
   "metadata": {},
   "outputs": [],
   "source": [
    "from sklearn.externals import joblib"
   ]
  },
  {
   "cell_type": "code",
   "execution_count": 34,
   "metadata": {},
   "outputs": [],
   "source": [
    "for i in range(6):\n",
    "    classifiers.append(joblib.load(\"lr_char_\" + str(i) + \".joblib\"))"
   ]
  },
  {
   "cell_type": "code",
   "execution_count": 30,
   "metadata": {},
   "outputs": [],
   "source": [
    "train = pd.read_csv('C:/Users/anees/Documents/CS/MP/datasets/toxic comment classification/train.csv')\n",
    "test = pd.read_csv('C:/Users/anees/Documents/CS/MP/datasets/toxic comment classification/test.csv')"
   ]
  },
  {
   "cell_type": "code",
   "execution_count": 12,
   "metadata": {},
   "outputs": [],
   "source": [
    "all_text = pd.concat([train.comment_text, test.comment_text])"
   ]
  },
  {
   "cell_type": "code",
   "execution_count": 14,
   "metadata": {},
   "outputs": [],
   "source": [
    "from sklearn.feature_extraction.text import TfidfVectorizer\n",
    "from scipy.sparse import hstack"
   ]
  },
  {
   "cell_type": "code",
   "execution_count": 15,
   "metadata": {},
   "outputs": [],
   "source": [
    "word_vectorizer = TfidfVectorizer(\n",
    "    sublinear_tf=True,\n",
    "    strip_accents='unicode',\n",
    "    analyzer='word',\n",
    "    token_pattern=r'\\w{1,}',\n",
    "    stop_words='english',\n",
    "    ngram_range=(1, 1),\n",
    "    max_features=10000)\n",
    "char_vectorizer = TfidfVectorizer(\n",
    "    sublinear_tf=True,\n",
    "    strip_accents='unicode',\n",
    "    analyzer='char',\n",
    "    stop_words='english',\n",
    "    ngram_range=(2, 6),\n",
    "    max_features=50000)"
   ]
  },
  {
   "cell_type": "code",
   "execution_count": 16,
   "metadata": {
    "scrolled": true
   },
   "outputs": [
    {
     "data": {
      "text/plain": [
       "TfidfVectorizer(analyzer='word', binary=False, decode_error='strict',\n",
       "        dtype=<class 'numpy.int64'>, encoding='utf-8', input='content',\n",
       "        lowercase=True, max_df=1.0, max_features=10000, min_df=1,\n",
       "        ngram_range=(1, 1), norm='l2', preprocessor=None, smooth_idf=True,\n",
       "        stop_words='english', strip_accents='unicode', sublinear_tf=True,\n",
       "        token_pattern='\\\\w{1,}', tokenizer=None, use_idf=True,\n",
       "        vocabulary=None)"
      ]
     },
     "execution_count": 16,
     "metadata": {},
     "output_type": "execute_result"
    }
   ],
   "source": [
    "word_vectorizer.fit(all_text)"
   ]
  },
  {
   "cell_type": "code",
   "execution_count": 18,
   "metadata": {},
   "outputs": [
    {
     "data": {
      "text/plain": [
       "TfidfVectorizer(analyzer='char', binary=False, decode_error='strict',\n",
       "        dtype=<class 'numpy.int64'>, encoding='utf-8', input='content',\n",
       "        lowercase=True, max_df=1.0, max_features=50000, min_df=1,\n",
       "        ngram_range=(2, 6), norm='l2', preprocessor=None, smooth_idf=True,\n",
       "        stop_words='english', strip_accents='unicode', sublinear_tf=True,\n",
       "        token_pattern='(?u)\\\\b\\\\w\\\\w+\\\\b', tokenizer=None, use_idf=True,\n",
       "        vocabulary=None)"
      ]
     },
     "execution_count": 18,
     "metadata": {},
     "output_type": "execute_result"
    }
   ],
   "source": [
    "char_vectorizer.fit(all_text)"
   ]
  },
  {
   "cell_type": "code",
   "execution_count": 20,
   "metadata": {},
   "outputs": [],
   "source": [
    "df_wordfeat = word_vectorizer.transform(df.comment)"
   ]
  },
  {
   "cell_type": "code",
   "execution_count": 22,
   "metadata": {},
   "outputs": [],
   "source": [
    "df_charfeat = char_vectorizer.transform(df.comment)"
   ]
  },
  {
   "cell_type": "code",
   "execution_count": 24,
   "metadata": {},
   "outputs": [],
   "source": [
    "df_feat = hstack([df_charfeat,df_wordfeat])"
   ]
  },
  {
   "cell_type": "code",
   "execution_count": 23,
   "metadata": {},
   "outputs": [],
   "source": [
    "class_names = ['toxic', 'severe_toxic', 'obscene', 'threat', 'insult', 'identity_hate']"
   ]
  },
  {
   "cell_type": "code",
   "execution_count": 27,
   "metadata": {},
   "outputs": [],
   "source": [
    "df['toxic'] = '0'\n",
    "df['severe_toxic'] = '0'\n",
    "df['obscene'] = '0'\n",
    "df['threat'] = '0'\n",
    "df['insult'] = '0'\n",
    "df['identity_hate'] = '0'"
   ]
  },
  {
   "cell_type": "code",
   "execution_count": 36,
   "metadata": {},
   "outputs": [],
   "source": [
    "i = 0\n",
    "for class_name in class_names:\n",
    "    df[class_name] = classifiers[i].predict_proba(df_feat)[:,1]\n",
    "    i+=1"
   ]
  },
  {
   "cell_type": "code",
   "execution_count": 63,
   "metadata": {},
   "outputs": [
    {
     "data": {
      "text/plain": [
       "array(['the_donald', 'news', 'politics', 'conservative', 'gaming',\n",
       "       'Showerthoughts', 'science', 'movies', 'wholesomememes',\n",
       "       'todayilearned'], dtype=object)"
      ]
     },
     "execution_count": 63,
     "metadata": {},
     "output_type": "execute_result"
    }
   ],
   "source": [
    "pd.unique(df['subreddit'])"
   ]
  },
  {
   "cell_type": "code",
   "execution_count": 59,
   "metadata": {},
   "outputs": [],
   "source": [
    "subs = pd.unique(df['subreddit'])\n",
    "toxic_scores = []\n",
    "for sub in subs:\n",
    "    score = []\n",
    "    for c in class_names:\n",
    "        x = df[df['subreddit']==sub]\n",
    "        score.append(x[c].sum())\n",
    "    toxic_scores.append(score)"
   ]
  },
  {
   "cell_type": "code",
   "execution_count": 64,
   "metadata": {},
   "outputs": [
    {
     "name": "stdout",
     "output_type": "stream",
     "text": [
      "the_donald\n",
      "[67.41597157978038, 4.667236962577098, 33.8658077359903, 1.8400864226076912, 27.144472900884388, 4.847290443130764]\n",
      "news\n",
      "[70.65648165423084, 4.824101765019295, 38.293071678369, 1.5957025245185072, 27.51395654811287, 5.194907154092444]\n",
      "politics\n",
      "[70.15577638932052, 4.8877266305598495, 35.431173394393035, 1.5980311829035454, 27.977736740309723, 5.261650786550357]\n",
      "conservative\n",
      "[49.28997215477165, 3.1561510461828592, 21.2401455506986, 1.5066688660711445, 18.124962644994802, 5.013339820926488]\n",
      "gaming\n",
      "[78.51575594901911, 5.230822205604779, 38.753472987389316, 2.0749716389293953, 30.24755450092626, 5.927758254258103]\n",
      "Showerthoughts\n",
      "[70.76612107433485, 4.742585531128775, 33.12862368497479, 1.850230354248961, 29.828658699749617, 5.115507969036546]\n",
      "science\n",
      "[38.5452624432364, 3.394550721149722, 16.79017613933849, 1.411108031414023, 15.586134943383051, 3.9582799164115228]\n",
      "movies\n",
      "[55.049187985316536, 3.973082855056554, 30.46428318972195, 1.6203676990799494, 20.30895961497749, 4.497739914346495]\n",
      "wholesomememes\n",
      "[75.75959890289349, 6.2391048648463485, 37.63227374515845, 2.054832265653738, 32.0283076416295, 8.631430698922653]\n",
      "todayilearned\n",
      "[67.5224558978532, 4.647670215382686, 35.09461288149699, 2.094287364734691, 28.180521350482767, 4.963905927277104]\n"
     ]
    }
   ],
   "source": [
    "for i in range(len(subs)):\n",
    "    print(subs[i])\n",
    "    print(toxic_scores[i])"
   ]
  },
  {
   "cell_type": "code",
   "execution_count": 58,
   "metadata": {},
   "outputs": [
    {
     "data": {
      "text/html": [
       "<div>\n",
       "<style scoped>\n",
       "    .dataframe tbody tr th:only-of-type {\n",
       "        vertical-align: middle;\n",
       "    }\n",
       "\n",
       "    .dataframe tbody tr th {\n",
       "        vertical-align: top;\n",
       "    }\n",
       "\n",
       "    .dataframe thead th {\n",
       "        text-align: right;\n",
       "    }\n",
       "</style>\n",
       "<table border=\"1\" class=\"dataframe\">\n",
       "  <thead>\n",
       "    <tr style=\"text-align: right;\">\n",
       "      <th></th>\n",
       "      <th>comment</th>\n",
       "      <th>subreddit</th>\n",
       "      <th>toxic</th>\n",
       "      <th>severe_toxic</th>\n",
       "      <th>obscene</th>\n",
       "      <th>threat</th>\n",
       "      <th>insult</th>\n",
       "      <th>identity_hate</th>\n",
       "    </tr>\n",
       "  </thead>\n",
       "  <tbody>\n",
       "    <tr>\n",
       "      <th>0</th>\n",
       "      <td>&gt;I CAN’T BREATHE!\\r\\n\\r\\nNEITHER CAN SHE! LOL</td>\n",
       "      <td>the_donald</td>\n",
       "      <td>0.146345</td>\n",
       "      <td>0.007168</td>\n",
       "      <td>0.047354</td>\n",
       "      <td>0.003085</td>\n",
       "      <td>0.050958</td>\n",
       "      <td>0.009246</td>\n",
       "    </tr>\n",
       "    <tr>\n",
       "      <th>1</th>\n",
       "      <td>She will never go away.</td>\n",
       "      <td>the_donald</td>\n",
       "      <td>0.171063</td>\n",
       "      <td>0.009457</td>\n",
       "      <td>0.053309</td>\n",
       "      <td>0.006602</td>\n",
       "      <td>0.054556</td>\n",
       "      <td>0.010904</td>\n",
       "    </tr>\n",
       "    <tr>\n",
       "      <th>2</th>\n",
       "      <td>&gt; I’d Like to Be President\\r\\n\\r\\nHahah.  we k...</td>\n",
       "      <td>the_donald</td>\n",
       "      <td>0.089804</td>\n",
       "      <td>0.006587</td>\n",
       "      <td>0.032664</td>\n",
       "      <td>0.003291</td>\n",
       "      <td>0.043775</td>\n",
       "      <td>0.010575</td>\n",
       "    </tr>\n",
       "    <tr>\n",
       "      <th>3</th>\n",
       "      <td>Look at me.  Do it.  Do it.</td>\n",
       "      <td>the_donald</td>\n",
       "      <td>0.076816</td>\n",
       "      <td>0.006302</td>\n",
       "      <td>0.027850</td>\n",
       "      <td>0.003069</td>\n",
       "      <td>0.022476</td>\n",
       "      <td>0.007098</td>\n",
       "    </tr>\n",
       "    <tr>\n",
       "      <th>4</th>\n",
       "      <td>\"I think I can rig it better this time\"\\r\\n\\r\\n</td>\n",
       "      <td>the_donald</td>\n",
       "      <td>0.028194</td>\n",
       "      <td>0.004102</td>\n",
       "      <td>0.021048</td>\n",
       "      <td>0.002638</td>\n",
       "      <td>0.014183</td>\n",
       "      <td>0.004939</td>\n",
       "    </tr>\n",
       "  </tbody>\n",
       "</table>\n",
       "</div>"
      ],
      "text/plain": [
       "                                             comment   subreddit     toxic  \\\n",
       "0      >I CAN’T BREATHE!\\r\\n\\r\\nNEITHER CAN SHE! LOL  the_donald  0.146345   \n",
       "1                            She will never go away.  the_donald  0.171063   \n",
       "2  > I’d Like to Be President\\r\\n\\r\\nHahah.  we k...  the_donald  0.089804   \n",
       "3                        Look at me.  Do it.  Do it.  the_donald  0.076816   \n",
       "4    \"I think I can rig it better this time\"\\r\\n\\r\\n  the_donald  0.028194   \n",
       "\n",
       "   severe_toxic   obscene    threat    insult  identity_hate  \n",
       "0      0.007168  0.047354  0.003085  0.050958       0.009246  \n",
       "1      0.009457  0.053309  0.006602  0.054556       0.010904  \n",
       "2      0.006587  0.032664  0.003291  0.043775       0.010575  \n",
       "3      0.006302  0.027850  0.003069  0.022476       0.007098  \n",
       "4      0.004102  0.021048  0.002638  0.014183       0.004939  "
      ]
     },
     "execution_count": 58,
     "metadata": {},
     "output_type": "execute_result"
    }
   ],
   "source": [
    "x.head()"
   ]
  },
  {
   "cell_type": "code",
   "execution_count": null,
   "metadata": {},
   "outputs": [],
   "source": []
  }
 ],
 "metadata": {
  "kernelspec": {
   "display_name": "Python 3",
   "language": "python",
   "name": "python3"
  },
  "language_info": {
   "codemirror_mode": {
    "name": "ipython",
    "version": 3
   },
   "file_extension": ".py",
   "mimetype": "text/x-python",
   "name": "python",
   "nbconvert_exporter": "python",
   "pygments_lexer": "ipython3",
   "version": "3.6.5"
  }
 },
 "nbformat": 4,
 "nbformat_minor": 2
}
