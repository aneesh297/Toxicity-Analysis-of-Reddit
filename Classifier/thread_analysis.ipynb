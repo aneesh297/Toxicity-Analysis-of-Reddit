{
 "cells": [
  {
   "cell_type": "code",
   "execution_count": 1,
   "metadata": {},
   "outputs": [],
   "source": [
    "path = r\"C:\\Users\\anees\\Documents\\CS\\MP\\datasets\\threadtoxic\""
   ]
  },
  {
   "cell_type": "code",
   "execution_count": 2,
   "metadata": {},
   "outputs": [],
   "source": [
    "import pickle\n",
    "dbfile = open(path, 'rb')\n",
    "data = pickle.load(dbfile)"
   ]
  },
  {
   "cell_type": "markdown",
   "metadata": {},
   "source": [
    "height of toxic subtrees\n",
    "<br>\n",
    "number of average toxic comments in a toxic subtree\n",
    "<br>\n",
    "percentage of toxic comments under a non toxic comment\n",
    "<br>\n",
    "percentage of toxic comments under a toxic comment"
   ]
  },
  {
   "cell_type": "code",
   "execution_count": 6,
   "metadata": {},
   "outputs": [],
   "source": [
    "avg_height = 0\n",
    "avg_tox_height = 0"
   ]
  },
  {
   "cell_type": "code",
   "execution_count": 9,
   "metadata": {},
   "outputs": [],
   "source": [
    "def height(comment):\n",
    "    if 'replies' not in comment.keys():\n",
    "        return 1\n",
    "    else:\n",
    "        if not comment['replies'] or comment['replies']==[{}]:\n",
    "            return 1\n",
    "        max_height = 1\n",
    "        for reply in comment['replies']:\n",
    "            h = height(reply)\n",
    "            if(h+1>max_height):\n",
    "                max_height = h + 1\n",
    "        return max_height"
   ]
  },
  {
   "cell_type": "code",
   "execution_count": 27,
   "metadata": {},
   "outputs": [],
   "source": [
    "def avgHeight(data):\n",
    "    avg_height = 0\n",
    "    n = 0\n",
    "    n_tox = 0\n",
    "    avg_toxic_height = 0\n",
    "    skip = 0\n",
    "    for comment in data:\n",
    "        if 'toxic' not in comment.keys():\n",
    "            skip+=1\n",
    "            continue\n",
    "        if comment['toxic']<=0.5:\n",
    "            h = height(comment)\n",
    "            n+=1\n",
    "            avg_height+=h    \n",
    "        else:\n",
    "            h = height(comment)\n",
    "            n_tox+=1\n",
    "            avg_toxic_height+=h \n",
    "    print(avg_height, avg_toxic_height)\n",
    "    avg_height/=n\n",
    "    avg_toxic_height/=n_tox\n",
    "    print(n, n_tox, skip)\n",
    "    return avg_height, avg_toxic_height"
   ]
  },
  {
   "cell_type": "code",
   "execution_count": 28,
   "metadata": {},
   "outputs": [
    {
     "name": "stdout",
     "output_type": "stream",
     "text": [
      "60575 3273\n",
      "50371 2616 746\n"
     ]
    }
   ],
   "source": [
    "avg_height, avg_tox_height = avgHeight(data)"
   ]
  },
  {
   "cell_type": "code",
   "execution_count": 29,
   "metadata": {},
   "outputs": [
    {
     "data": {
      "text/plain": [
       "(1.2025768795537115, 1.2511467889908257)"
      ]
     },
     "execution_count": 29,
     "metadata": {},
     "output_type": "execute_result"
    }
   ],
   "source": [
    "avg_height, avg_tox_height"
   ]
  },
  {
   "cell_type": "code",
   "execution_count": 35,
   "metadata": {},
   "outputs": [
    {
     "data": {
      "text/plain": [
       "4.038819493614332"
      ]
     },
     "execution_count": 35,
     "metadata": {},
     "output_type": "execute_result"
    }
   ],
   "source": [
    "(avg_tox_height/avg_height - 1) * 100"
   ]
  },
  {
   "cell_type": "code",
   "execution_count": 30,
   "metadata": {},
   "outputs": [],
   "source": [
    "def count(comment):\n",
    "    if 'replies' not in comment.keys():\n",
    "        return 1\n",
    "    else:\n",
    "        if not comment['replies'] or comment['replies']==[{}]:\n",
    "            return 1\n",
    "        total = 1\n",
    "        for reply in comment['replies']:\n",
    "            c = count(reply)\n",
    "            total+=c\n",
    "        return total"
   ]
  },
  {
   "cell_type": "code",
   "execution_count": 31,
   "metadata": {},
   "outputs": [],
   "source": [
    "def avgCount(data):\n",
    "    avg_count = 0\n",
    "    n = 0\n",
    "    n_tox = 0\n",
    "    avg_toxic_count = 0\n",
    "    skip = 0\n",
    "    for comment in data:\n",
    "        if 'toxic' not in comment.keys():\n",
    "            skip+=1\n",
    "            continue\n",
    "        if comment['toxic']<=0.5:\n",
    "            c = count(comment)\n",
    "            n+=1\n",
    "            avg_count+=c    \n",
    "        else:\n",
    "            c = count(comment)\n",
    "            n_tox+=1\n",
    "            avg_toxic_count+=c \n",
    "    print(avg_count, avg_toxic_count)\n",
    "    avg_count/=n\n",
    "    avg_toxic_count/=n_tox\n",
    "    print(n, n_tox, skip)\n",
    "    return avg_count, avg_toxic_count"
   ]
  },
  {
   "cell_type": "code",
   "execution_count": 32,
   "metadata": {},
   "outputs": [
    {
     "name": "stdout",
     "output_type": "stream",
     "text": [
      "95800 5461\n",
      "50371 2616 746\n",
      "1.9018879911059936 2.087538226299694\n"
     ]
    }
   ],
   "source": [
    "avg_count, avg_tox_count = avgCount(data)\n",
    "print(avg_count, avg_tox_count)"
   ]
  },
  {
   "cell_type": "code",
   "execution_count": 34,
   "metadata": {},
   "outputs": [
    {
     "data": {
      "text/plain": [
       "9.761365341275452"
      ]
     },
     "execution_count": 34,
     "metadata": {},
     "output_type": "execute_result"
    }
   ],
   "source": [
    "(avg_tox_count/avg_count - 1) * 100"
   ]
  },
  {
   "cell_type": "code",
   "execution_count": null,
   "metadata": {},
   "outputs": [],
   "source": []
  }
 ],
 "metadata": {
  "kernelspec": {
   "display_name": "Python 3",
   "language": "python",
   "name": "python3"
  },
  "language_info": {
   "codemirror_mode": {
    "name": "ipython",
    "version": 3
   },
   "file_extension": ".py",
   "mimetype": "text/x-python",
   "name": "python",
   "nbconvert_exporter": "python",
   "pygments_lexer": "ipython3",
   "version": "3.6.5"
  }
 },
 "nbformat": 4,
 "nbformat_minor": 2
}
