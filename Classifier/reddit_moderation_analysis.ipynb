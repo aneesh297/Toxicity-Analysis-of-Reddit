{
 "cells": [
  {
   "cell_type": "code",
   "execution_count": 2,
   "metadata": {},
   "outputs": [],
   "source": [
    "import pandas as pd\n",
    "%matplotlib inline"
   ]
  },
  {
   "cell_type": "code",
   "execution_count": 4,
   "metadata": {},
   "outputs": [],
   "source": [
    "stream_path = r\"C:\\Users\\anees\\Documents\\CS\\MP\\datasets\\comment_stream_117k.csv\"\n",
    "mod_path = r\"C:\\Users\\anees\\Documents\\CS\\MP\\datasets\\top_week.csv\""
   ]
  },
  {
   "cell_type": "code",
   "execution_count": 5,
   "metadata": {},
   "outputs": [],
   "source": [
    "stream_df = pd.read_csv(stream_path)\n",
    "mod_df = pd.read_csv(mod_path)"
   ]
  },
  {
   "cell_type": "code",
   "execution_count": 6,
   "metadata": {},
   "outputs": [
    {
     "data": {
      "text/html": [
       "<div>\n",
       "<style scoped>\n",
       "    .dataframe tbody tr th:only-of-type {\n",
       "        vertical-align: middle;\n",
       "    }\n",
       "\n",
       "    .dataframe tbody tr th {\n",
       "        vertical-align: top;\n",
       "    }\n",
       "\n",
       "    .dataframe thead th {\n",
       "        text-align: right;\n",
       "    }\n",
       "</style>\n",
       "<table border=\"1\" class=\"dataframe\">\n",
       "  <thead>\n",
       "    <tr style=\"text-align: right;\">\n",
       "      <th></th>\n",
       "      <th>comment</th>\n",
       "      <th>subreddit</th>\n",
       "    </tr>\n",
       "  </thead>\n",
       "  <tbody>\n",
       "    <tr>\n",
       "      <th>0</th>\n",
       "      <td>Yeah, my library doesn't have DVD's. Books and...</td>\n",
       "      <td>funny</td>\n",
       "    </tr>\n",
       "    <tr>\n",
       "      <th>1</th>\n",
       "      <td>yes yes yes. I don't understand why more peopl...</td>\n",
       "      <td>ufl</td>\n",
       "    </tr>\n",
       "    <tr>\n",
       "      <th>2</th>\n",
       "      <td>So dreamy.</td>\n",
       "      <td>askgaybros</td>\n",
       "    </tr>\n",
       "    <tr>\n",
       "      <th>3</th>\n",
       "      <td>Thank you! First painting i'm feeling proud of...</td>\n",
       "      <td>apexlegends</td>\n",
       "    </tr>\n",
       "    <tr>\n",
       "      <th>4</th>\n",
       "      <td>Grammar</td>\n",
       "      <td>PewdiepieSubmissions</td>\n",
       "    </tr>\n",
       "  </tbody>\n",
       "</table>\n",
       "</div>"
      ],
      "text/plain": [
       "                                             comment             subreddit\n",
       "0  Yeah, my library doesn't have DVD's. Books and...                 funny\n",
       "1  yes yes yes. I don't understand why more peopl...                   ufl\n",
       "2                                         So dreamy.            askgaybros\n",
       "3  Thank you! First painting i'm feeling proud of...           apexlegends\n",
       "4                                           Grammar   PewdiepieSubmissions"
      ]
     },
     "execution_count": 6,
     "metadata": {},
     "output_type": "execute_result"
    }
   ],
   "source": [
    "stream_df.head()"
   ]
  },
  {
   "cell_type": "code",
   "execution_count": 7,
   "metadata": {},
   "outputs": [
    {
     "data": {
      "text/html": [
       "<div>\n",
       "<style scoped>\n",
       "    .dataframe tbody tr th:only-of-type {\n",
       "        vertical-align: middle;\n",
       "    }\n",
       "\n",
       "    .dataframe tbody tr th {\n",
       "        vertical-align: top;\n",
       "    }\n",
       "\n",
       "    .dataframe thead th {\n",
       "        text-align: right;\n",
       "    }\n",
       "</style>\n",
       "<table border=\"1\" class=\"dataframe\">\n",
       "  <thead>\n",
       "    <tr style=\"text-align: right;\">\n",
       "      <th></th>\n",
       "      <th>subreddit</th>\n",
       "      <th>comment</th>\n",
       "      <th>score</th>\n",
       "    </tr>\n",
       "  </thead>\n",
       "  <tbody>\n",
       "    <tr>\n",
       "      <th>0</th>\n",
       "      <td>gifs</td>\n",
       "      <td>You can pinpoint the precise moment he is told...</td>\n",
       "      <td>12141.0</td>\n",
       "    </tr>\n",
       "    <tr>\n",
       "      <th>1</th>\n",
       "      <td>gifs</td>\n",
       "      <td>Don't know what the brand of pizza it is but i...</td>\n",
       "      <td>14051.0</td>\n",
       "    </tr>\n",
       "    <tr>\n",
       "      <th>2</th>\n",
       "      <td>gifs</td>\n",
       "      <td>That look off screen when someone must be tell...</td>\n",
       "      <td>19301.0</td>\n",
       "    </tr>\n",
       "    <tr>\n",
       "      <th>3</th>\n",
       "      <td>gifs</td>\n",
       "      <td>Haha! I was watching this kid at the hour rece...</td>\n",
       "      <td>2268.0</td>\n",
       "    </tr>\n",
       "    <tr>\n",
       "      <th>4</th>\n",
       "      <td>gifs</td>\n",
       "      <td>Can't wait till he's on Ellen and gets a lifet...</td>\n",
       "      <td>1800.0</td>\n",
       "    </tr>\n",
       "  </tbody>\n",
       "</table>\n",
       "</div>"
      ],
      "text/plain": [
       "  subreddit                                            comment    score\n",
       "0      gifs  You can pinpoint the precise moment he is told...  12141.0\n",
       "1      gifs  Don't know what the brand of pizza it is but i...  14051.0\n",
       "2      gifs  That look off screen when someone must be tell...  19301.0\n",
       "3      gifs  Haha! I was watching this kid at the hour rece...   2268.0\n",
       "4      gifs  Can't wait till he's on Ellen and gets a lifet...   1800.0"
      ]
     },
     "execution_count": 7,
     "metadata": {},
     "output_type": "execute_result"
    }
   ],
   "source": [
    "mod_df.head()"
   ]
  },
  {
   "cell_type": "code",
   "execution_count": 14,
   "metadata": {},
   "outputs": [],
   "source": [
    "from sklearn.externals import joblib\n",
    "from sklearn.feature_extraction.text import TfidfVectorizer\n",
    "from scipy.sparse import hstack\n",
    "import pickle"
   ]
  },
  {
   "cell_type": "code",
   "execution_count": 9,
   "metadata": {},
   "outputs": [],
   "source": [
    "classifiers = []\n",
    "for i in range(6):\n",
    "    classifiers.append(joblib.load(\"lr_char_\" + str(i) + \".joblib\"))"
   ]
  },
  {
   "cell_type": "code",
   "execution_count": 12,
   "metadata": {},
   "outputs": [],
   "source": [
    "word_vectorizer = TfidfVectorizer(\n",
    "    sublinear_tf=True,\n",
    "    strip_accents='unicode',\n",
    "    analyzer='word',\n",
    "    token_pattern=r'\\w{1,}',\n",
    "    stop_words='english',\n",
    "    ngram_range=(1, 1),\n",
    "    max_features=10000)\n",
    "char_vectorizer = TfidfVectorizer(\n",
    "    sublinear_tf=True,\n",
    "    strip_accents='unicode',\n",
    "    analyzer='char',\n",
    "    stop_words='english',\n",
    "    ngram_range=(2, 6),\n",
    "    max_features=50000)"
   ]
  },
  {
   "cell_type": "code",
   "execution_count": 15,
   "metadata": {},
   "outputs": [],
   "source": [
    "word_vectorizer = pickle.load(open(\"word_vectorizer.pickle\",'rb'))\n",
    "char_vectorizer = pickle.load(open(\"char_vectorizer.pickle\",'rb'))"
   ]
  },
  {
   "cell_type": "code",
   "execution_count": 37,
   "metadata": {},
   "outputs": [
    {
     "name": "stdout",
     "output_type": "stream",
     "text": [
      "generating word features\n",
      "creating char features\n",
      "done\n"
     ]
    }
   ],
   "source": [
    "print(\"generating word features\")\n",
    "stream_df_wordfeat = word_vectorizer.transform(stream_df.comment)\n",
    "print(\"creating char features\")\n",
    "stream_df_charfeat = char_vectorizer.transform(stream_df.comment)\n",
    "print(\"done\")\n",
    "stream_df_feat = hstack([stream_df_charfeat,stream_df_wordfeat])"
   ]
  },
  {
   "cell_type": "code",
   "execution_count": 27,
   "metadata": {},
   "outputs": [],
   "source": [
    "mod_df = mod_df.dropna()"
   ]
  },
  {
   "cell_type": "code",
   "execution_count": 38,
   "metadata": {},
   "outputs": [
    {
     "name": "stdout",
     "output_type": "stream",
     "text": [
      "generating word features\n",
      "creating char features\n",
      "done\n"
     ]
    }
   ],
   "source": [
    "print(\"generating word features\")\n",
    "mod_df_wordfeat = word_vectorizer.transform(mod_df.comment)\n",
    "print(\"creating char features\")\n",
    "mod_df_charfeat = char_vectorizer.transform(mod_df.comment)\n",
    "print(\"done\")\n",
    "mod_df_feat = hstack([mod_df_charfeat,mod_df_wordfeat])"
   ]
  },
  {
   "cell_type": "code",
   "execution_count": 30,
   "metadata": {},
   "outputs": [],
   "source": [
    "class_names = ['toxic', 'severe_toxic', 'obscene', 'threat', 'insult', 'identity_hate']"
   ]
  },
  {
   "cell_type": "code",
   "execution_count": 35,
   "metadata": {},
   "outputs": [
    {
     "name": "stderr",
     "output_type": "stream",
     "text": [
      "C:\\ProgramData\\Anaconda3\\lib\\site-packages\\ipykernel_launcher.py:1: SettingWithCopyWarning: \n",
      "A value is trying to be set on a copy of a slice from a DataFrame.\n",
      "Try using .loc[row_indexer,col_indexer] = value instead\n",
      "\n",
      "See the caveats in the documentation: http://pandas.pydata.org/pandas-docs/stable/indexing.html#indexing-view-versus-copy\n",
      "  \"\"\"Entry point for launching an IPython kernel.\n",
      "C:\\ProgramData\\Anaconda3\\lib\\site-packages\\ipykernel_launcher.py:2: SettingWithCopyWarning: \n",
      "A value is trying to be set on a copy of a slice from a DataFrame.\n",
      "Try using .loc[row_indexer,col_indexer] = value instead\n",
      "\n",
      "See the caveats in the documentation: http://pandas.pydata.org/pandas-docs/stable/indexing.html#indexing-view-versus-copy\n",
      "  \n",
      "C:\\ProgramData\\Anaconda3\\lib\\site-packages\\ipykernel_launcher.py:3: SettingWithCopyWarning: \n",
      "A value is trying to be set on a copy of a slice from a DataFrame.\n",
      "Try using .loc[row_indexer,col_indexer] = value instead\n",
      "\n",
      "See the caveats in the documentation: http://pandas.pydata.org/pandas-docs/stable/indexing.html#indexing-view-versus-copy\n",
      "  This is separate from the ipykernel package so we can avoid doing imports until\n",
      "C:\\ProgramData\\Anaconda3\\lib\\site-packages\\ipykernel_launcher.py:4: SettingWithCopyWarning: \n",
      "A value is trying to be set on a copy of a slice from a DataFrame.\n",
      "Try using .loc[row_indexer,col_indexer] = value instead\n",
      "\n",
      "See the caveats in the documentation: http://pandas.pydata.org/pandas-docs/stable/indexing.html#indexing-view-versus-copy\n",
      "  after removing the cwd from sys.path.\n",
      "C:\\ProgramData\\Anaconda3\\lib\\site-packages\\ipykernel_launcher.py:5: SettingWithCopyWarning: \n",
      "A value is trying to be set on a copy of a slice from a DataFrame.\n",
      "Try using .loc[row_indexer,col_indexer] = value instead\n",
      "\n",
      "See the caveats in the documentation: http://pandas.pydata.org/pandas-docs/stable/indexing.html#indexing-view-versus-copy\n",
      "  \"\"\"\n",
      "C:\\ProgramData\\Anaconda3\\lib\\site-packages\\ipykernel_launcher.py:6: SettingWithCopyWarning: \n",
      "A value is trying to be set on a copy of a slice from a DataFrame.\n",
      "Try using .loc[row_indexer,col_indexer] = value instead\n",
      "\n",
      "See the caveats in the documentation: http://pandas.pydata.org/pandas-docs/stable/indexing.html#indexing-view-versus-copy\n",
      "  \n"
     ]
    }
   ],
   "source": [
    "mod_df['toxic'] = 0\n",
    "mod_df['severe_toxic'] = 0\n",
    "mod_df['obscene'] = 0\n",
    "mod_df['threat'] = 0\n",
    "mod_df['insult'] = 0\n",
    "mod_df['identity_hate'] = 0"
   ]
  },
  {
   "cell_type": "code",
   "execution_count": 36,
   "metadata": {},
   "outputs": [],
   "source": [
    "stream_df['toxic'] = 0\n",
    "stream_df['severe_toxic'] = 0\n",
    "stream_df['obscene'] = 0\n",
    "stream_df['threat'] = 0\n",
    "stream_df['insult'] = 0\n",
    "stream_df['identity_hate'] = 0"
   ]
  },
  {
   "cell_type": "code",
   "execution_count": 39,
   "metadata": {},
   "outputs": [
    {
     "name": "stderr",
     "output_type": "stream",
     "text": [
      "C:\\ProgramData\\Anaconda3\\lib\\site-packages\\ipykernel_launcher.py:3: SettingWithCopyWarning: \n",
      "A value is trying to be set on a copy of a slice from a DataFrame.\n",
      "Try using .loc[row_indexer,col_indexer] = value instead\n",
      "\n",
      "See the caveats in the documentation: http://pandas.pydata.org/pandas-docs/stable/indexing.html#indexing-view-versus-copy\n",
      "  This is separate from the ipykernel package so we can avoid doing imports until\n"
     ]
    }
   ],
   "source": [
    "i = 0\n",
    "for class_name in class_names:\n",
    "    mod_df[class_name] = classifiers[i].predict_proba(mod_df_feat)[:,1]\n",
    "    i+=1"
   ]
  },
  {
   "cell_type": "code",
   "execution_count": 40,
   "metadata": {},
   "outputs": [],
   "source": [
    "i = 0\n",
    "for class_name in class_names:\n",
    "    stream_df[class_name] = classifiers[i].predict_proba(stream_df_feat)[:,1]\n",
    "    i+=1"
   ]
  },
  {
   "cell_type": "code",
   "execution_count": 41,
   "metadata": {},
   "outputs": [
    {
     "data": {
      "text/html": [
       "<div>\n",
       "<style scoped>\n",
       "    .dataframe tbody tr th:only-of-type {\n",
       "        vertical-align: middle;\n",
       "    }\n",
       "\n",
       "    .dataframe tbody tr th {\n",
       "        vertical-align: top;\n",
       "    }\n",
       "\n",
       "    .dataframe thead th {\n",
       "        text-align: right;\n",
       "    }\n",
       "</style>\n",
       "<table border=\"1\" class=\"dataframe\">\n",
       "  <thead>\n",
       "    <tr style=\"text-align: right;\">\n",
       "      <th></th>\n",
       "      <th>toxic</th>\n",
       "      <th>severe_toxic</th>\n",
       "      <th>obscene</th>\n",
       "      <th>threat</th>\n",
       "      <th>insult</th>\n",
       "      <th>identity_hate</th>\n",
       "    </tr>\n",
       "  </thead>\n",
       "  <tbody>\n",
       "    <tr>\n",
       "      <th>count</th>\n",
       "      <td>117242.000000</td>\n",
       "      <td>117242.000000</td>\n",
       "      <td>117242.000000</td>\n",
       "      <td>117242.000000</td>\n",
       "      <td>117242.000000</td>\n",
       "      <td>117242.000000</td>\n",
       "    </tr>\n",
       "    <tr>\n",
       "      <th>mean</th>\n",
       "      <td>0.122573</td>\n",
       "      <td>0.009505</td>\n",
       "      <td>0.062581</td>\n",
       "      <td>0.003517</td>\n",
       "      <td>0.050330</td>\n",
       "      <td>0.009889</td>\n",
       "    </tr>\n",
       "    <tr>\n",
       "      <th>std</th>\n",
       "      <td>0.156798</td>\n",
       "      <td>0.028083</td>\n",
       "      <td>0.130044</td>\n",
       "      <td>0.004244</td>\n",
       "      <td>0.085787</td>\n",
       "      <td>0.012836</td>\n",
       "    </tr>\n",
       "    <tr>\n",
       "      <th>min</th>\n",
       "      <td>0.002468</td>\n",
       "      <td>0.000824</td>\n",
       "      <td>0.002985</td>\n",
       "      <td>0.000846</td>\n",
       "      <td>0.002087</td>\n",
       "      <td>0.001552</td>\n",
       "    </tr>\n",
       "    <tr>\n",
       "      <th>25%</th>\n",
       "      <td>0.048530</td>\n",
       "      <td>0.004818</td>\n",
       "      <td>0.023183</td>\n",
       "      <td>0.002597</td>\n",
       "      <td>0.021627</td>\n",
       "      <td>0.006613</td>\n",
       "    </tr>\n",
       "    <tr>\n",
       "      <th>50%</th>\n",
       "      <td>0.074789</td>\n",
       "      <td>0.006279</td>\n",
       "      <td>0.031806</td>\n",
       "      <td>0.003070</td>\n",
       "      <td>0.030463</td>\n",
       "      <td>0.008282</td>\n",
       "    </tr>\n",
       "    <tr>\n",
       "      <th>75%</th>\n",
       "      <td>0.121335</td>\n",
       "      <td>0.008209</td>\n",
       "      <td>0.045620</td>\n",
       "      <td>0.003630</td>\n",
       "      <td>0.044849</td>\n",
       "      <td>0.010313</td>\n",
       "    </tr>\n",
       "    <tr>\n",
       "      <th>max</th>\n",
       "      <td>0.999995</td>\n",
       "      <td>0.908390</td>\n",
       "      <td>0.999999</td>\n",
       "      <td>0.513580</td>\n",
       "      <td>0.999074</td>\n",
       "      <td>0.883107</td>\n",
       "    </tr>\n",
       "  </tbody>\n",
       "</table>\n",
       "</div>"
      ],
      "text/plain": [
       "               toxic   severe_toxic        obscene         threat  \\\n",
       "count  117242.000000  117242.000000  117242.000000  117242.000000   \n",
       "mean        0.122573       0.009505       0.062581       0.003517   \n",
       "std         0.156798       0.028083       0.130044       0.004244   \n",
       "min         0.002468       0.000824       0.002985       0.000846   \n",
       "25%         0.048530       0.004818       0.023183       0.002597   \n",
       "50%         0.074789       0.006279       0.031806       0.003070   \n",
       "75%         0.121335       0.008209       0.045620       0.003630   \n",
       "max         0.999995       0.908390       0.999999       0.513580   \n",
       "\n",
       "              insult  identity_hate  \n",
       "count  117242.000000  117242.000000  \n",
       "mean        0.050330       0.009889  \n",
       "std         0.085787       0.012836  \n",
       "min         0.002087       0.001552  \n",
       "25%         0.021627       0.006613  \n",
       "50%         0.030463       0.008282  \n",
       "75%         0.044849       0.010313  \n",
       "max         0.999074       0.883107  "
      ]
     },
     "execution_count": 41,
     "metadata": {},
     "output_type": "execute_result"
    }
   ],
   "source": [
    "stream_df.describe()"
   ]
  },
  {
   "cell_type": "code",
   "execution_count": 42,
   "metadata": {},
   "outputs": [
    {
     "data": {
      "text/html": [
       "<div>\n",
       "<style scoped>\n",
       "    .dataframe tbody tr th:only-of-type {\n",
       "        vertical-align: middle;\n",
       "    }\n",
       "\n",
       "    .dataframe tbody tr th {\n",
       "        vertical-align: top;\n",
       "    }\n",
       "\n",
       "    .dataframe thead th {\n",
       "        text-align: right;\n",
       "    }\n",
       "</style>\n",
       "<table border=\"1\" class=\"dataframe\">\n",
       "  <thead>\n",
       "    <tr style=\"text-align: right;\">\n",
       "      <th></th>\n",
       "      <th>score</th>\n",
       "      <th>toxic</th>\n",
       "      <th>severe_toxic</th>\n",
       "      <th>obscene</th>\n",
       "      <th>threat</th>\n",
       "      <th>insult</th>\n",
       "      <th>identity_hate</th>\n",
       "    </tr>\n",
       "  </thead>\n",
       "  <tbody>\n",
       "    <tr>\n",
       "      <th>count</th>\n",
       "      <td>187619.000000</td>\n",
       "      <td>187619.000000</td>\n",
       "      <td>187619.000000</td>\n",
       "      <td>187619.000000</td>\n",
       "      <td>187619.000000</td>\n",
       "      <td>187619.000000</td>\n",
       "      <td>187619.000000</td>\n",
       "    </tr>\n",
       "    <tr>\n",
       "      <th>mean</th>\n",
       "      <td>158.301222</td>\n",
       "      <td>0.132891</td>\n",
       "      <td>0.009805</td>\n",
       "      <td>0.067492</td>\n",
       "      <td>0.003609</td>\n",
       "      <td>0.053565</td>\n",
       "      <td>0.010393</td>\n",
       "    </tr>\n",
       "    <tr>\n",
       "      <th>std</th>\n",
       "      <td>1217.023686</td>\n",
       "      <td>0.158505</td>\n",
       "      <td>0.025606</td>\n",
       "      <td>0.132858</td>\n",
       "      <td>0.004545</td>\n",
       "      <td>0.083757</td>\n",
       "      <td>0.012456</td>\n",
       "    </tr>\n",
       "    <tr>\n",
       "      <th>min</th>\n",
       "      <td>-206.000000</td>\n",
       "      <td>0.004003</td>\n",
       "      <td>0.001209</td>\n",
       "      <td>0.003313</td>\n",
       "      <td>0.001012</td>\n",
       "      <td>0.003262</td>\n",
       "      <td>0.001862</td>\n",
       "    </tr>\n",
       "    <tr>\n",
       "      <th>25%</th>\n",
       "      <td>2.000000</td>\n",
       "      <td>0.055139</td>\n",
       "      <td>0.005180</td>\n",
       "      <td>0.025215</td>\n",
       "      <td>0.002668</td>\n",
       "      <td>0.023799</td>\n",
       "      <td>0.007073</td>\n",
       "    </tr>\n",
       "    <tr>\n",
       "      <th>50%</th>\n",
       "      <td>4.000000</td>\n",
       "      <td>0.082274</td>\n",
       "      <td>0.006621</td>\n",
       "      <td>0.033962</td>\n",
       "      <td>0.003123</td>\n",
       "      <td>0.032825</td>\n",
       "      <td>0.008714</td>\n",
       "    </tr>\n",
       "    <tr>\n",
       "      <th>75%</th>\n",
       "      <td>22.000000</td>\n",
       "      <td>0.133699</td>\n",
       "      <td>0.008568</td>\n",
       "      <td>0.049083</td>\n",
       "      <td>0.003679</td>\n",
       "      <td>0.048786</td>\n",
       "      <td>0.010867</td>\n",
       "    </tr>\n",
       "    <tr>\n",
       "      <th>max</th>\n",
       "      <td>74620.000000</td>\n",
       "      <td>0.999993</td>\n",
       "      <td>0.874163</td>\n",
       "      <td>0.999992</td>\n",
       "      <td>0.611907</td>\n",
       "      <td>0.999546</td>\n",
       "      <td>0.777843</td>\n",
       "    </tr>\n",
       "  </tbody>\n",
       "</table>\n",
       "</div>"
      ],
      "text/plain": [
       "               score          toxic   severe_toxic        obscene  \\\n",
       "count  187619.000000  187619.000000  187619.000000  187619.000000   \n",
       "mean      158.301222       0.132891       0.009805       0.067492   \n",
       "std      1217.023686       0.158505       0.025606       0.132858   \n",
       "min      -206.000000       0.004003       0.001209       0.003313   \n",
       "25%         2.000000       0.055139       0.005180       0.025215   \n",
       "50%         4.000000       0.082274       0.006621       0.033962   \n",
       "75%        22.000000       0.133699       0.008568       0.049083   \n",
       "max     74620.000000       0.999993       0.874163       0.999992   \n",
       "\n",
       "              threat         insult  identity_hate  \n",
       "count  187619.000000  187619.000000  187619.000000  \n",
       "mean        0.003609       0.053565       0.010393  \n",
       "std         0.004545       0.083757       0.012456  \n",
       "min         0.001012       0.003262       0.001862  \n",
       "25%         0.002668       0.023799       0.007073  \n",
       "50%         0.003123       0.032825       0.008714  \n",
       "75%         0.003679       0.048786       0.010867  \n",
       "max         0.611907       0.999546       0.777843  "
      ]
     },
     "execution_count": 42,
     "metadata": {},
     "output_type": "execute_result"
    }
   ],
   "source": [
    "mod_df.describe()"
   ]
  },
  {
   "cell_type": "code",
   "execution_count": null,
   "metadata": {},
   "outputs": [],
   "source": []
  }
 ],
 "metadata": {
  "kernelspec": {
   "display_name": "Python 3",
   "language": "python",
   "name": "python3"
  },
  "language_info": {
   "codemirror_mode": {
    "name": "ipython",
    "version": 3
   },
   "file_extension": ".py",
   "mimetype": "text/x-python",
   "name": "python",
   "nbconvert_exporter": "python",
   "pygments_lexer": "ipython3",
   "version": "3.6.5"
  }
 },
 "nbformat": 4,
 "nbformat_minor": 2
}
