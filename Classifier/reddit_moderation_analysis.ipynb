{
 "cells": [
  {
   "cell_type": "code",
   "execution_count": 1,
   "metadata": {},
   "outputs": [],
   "source": [
    "import pandas as pd\n",
    "%matplotlib inline"
   ]
  },
  {
   "cell_type": "code",
   "execution_count": 2,
   "metadata": {},
   "outputs": [],
   "source": [
    "stream_path = r\"C:\\Users\\anees\\Documents\\CS\\MP\\datasets\\comment_stream_117k.csv\"\n",
    "mod_path = r\"C:\\Users\\anees\\Documents\\CS\\MP\\datasets\\top_week_full.csv\""
   ]
  },
  {
   "cell_type": "code",
   "execution_count": 3,
   "metadata": {},
   "outputs": [],
   "source": [
    "stream_df = pd.read_csv(stream_path)\n",
    "mod_df = pd.read_csv(mod_path)"
   ]
  },
  {
   "cell_type": "code",
   "execution_count": 4,
   "metadata": {},
   "outputs": [
    {
     "data": {
      "text/html": [
       "<div>\n",
       "<style scoped>\n",
       "    .dataframe tbody tr th:only-of-type {\n",
       "        vertical-align: middle;\n",
       "    }\n",
       "\n",
       "    .dataframe tbody tr th {\n",
       "        vertical-align: top;\n",
       "    }\n",
       "\n",
       "    .dataframe thead th {\n",
       "        text-align: right;\n",
       "    }\n",
       "</style>\n",
       "<table border=\"1\" class=\"dataframe\">\n",
       "  <thead>\n",
       "    <tr style=\"text-align: right;\">\n",
       "      <th></th>\n",
       "      <th>comment</th>\n",
       "      <th>subreddit</th>\n",
       "    </tr>\n",
       "  </thead>\n",
       "  <tbody>\n",
       "    <tr>\n",
       "      <th>0</th>\n",
       "      <td>Yeah, my library doesn't have DVD's. Books and...</td>\n",
       "      <td>funny</td>\n",
       "    </tr>\n",
       "    <tr>\n",
       "      <th>1</th>\n",
       "      <td>yes yes yes. I don't understand why more peopl...</td>\n",
       "      <td>ufl</td>\n",
       "    </tr>\n",
       "    <tr>\n",
       "      <th>2</th>\n",
       "      <td>So dreamy.</td>\n",
       "      <td>askgaybros</td>\n",
       "    </tr>\n",
       "    <tr>\n",
       "      <th>3</th>\n",
       "      <td>Thank you! First painting i'm feeling proud of...</td>\n",
       "      <td>apexlegends</td>\n",
       "    </tr>\n",
       "    <tr>\n",
       "      <th>4</th>\n",
       "      <td>Grammar</td>\n",
       "      <td>PewdiepieSubmissions</td>\n",
       "    </tr>\n",
       "  </tbody>\n",
       "</table>\n",
       "</div>"
      ],
      "text/plain": [
       "                                             comment             subreddit\n",
       "0  Yeah, my library doesn't have DVD's. Books and...                 funny\n",
       "1  yes yes yes. I don't understand why more peopl...                   ufl\n",
       "2                                         So dreamy.            askgaybros\n",
       "3  Thank you! First painting i'm feeling proud of...           apexlegends\n",
       "4                                           Grammar   PewdiepieSubmissions"
      ]
     },
     "execution_count": 4,
     "metadata": {},
     "output_type": "execute_result"
    }
   ],
   "source": [
    "stream_df.head()"
   ]
  },
  {
   "cell_type": "code",
   "execution_count": 5,
   "metadata": {},
   "outputs": [
    {
     "data": {
      "text/html": [
       "<div>\n",
       "<style scoped>\n",
       "    .dataframe tbody tr th:only-of-type {\n",
       "        vertical-align: middle;\n",
       "    }\n",
       "\n",
       "    .dataframe tbody tr th {\n",
       "        vertical-align: top;\n",
       "    }\n",
       "\n",
       "    .dataframe thead th {\n",
       "        text-align: right;\n",
       "    }\n",
       "</style>\n",
       "<table border=\"1\" class=\"dataframe\">\n",
       "  <thead>\n",
       "    <tr style=\"text-align: right;\">\n",
       "      <th></th>\n",
       "      <th>subreddit</th>\n",
       "      <th>author</th>\n",
       "      <th>comment</th>\n",
       "      <th>score</th>\n",
       "    </tr>\n",
       "  </thead>\n",
       "  <tbody>\n",
       "    <tr>\n",
       "      <th>0</th>\n",
       "      <td>movies</td>\n",
       "      <td>mi-16evil</td>\n",
       "      <td>[Gunn has confirmed this on his Instagram](htt...</td>\n",
       "      <td>1</td>\n",
       "    </tr>\n",
       "    <tr>\n",
       "      <th>1</th>\n",
       "      <td>movies</td>\n",
       "      <td>McFeely_Smackup</td>\n",
       "      <td>\"Sorry James, you're fired\"\\n\\n\"Ok, I guess I'...</td>\n",
       "      <td>5082</td>\n",
       "    </tr>\n",
       "    <tr>\n",
       "      <th>2</th>\n",
       "      <td>movies</td>\n",
       "      <td>skepticallypessimist</td>\n",
       "      <td>Thats illegal</td>\n",
       "      <td>662</td>\n",
       "    </tr>\n",
       "    <tr>\n",
       "      <th>3</th>\n",
       "      <td>movies</td>\n",
       "      <td>dwide_k_shrude</td>\n",
       "      <td>He will make it legal.</td>\n",
       "      <td>266</td>\n",
       "    </tr>\n",
       "    <tr>\n",
       "      <th>4</th>\n",
       "      <td>movies</td>\n",
       "      <td>apollodeen</td>\n",
       "      <td>We'll pay you 20 million and give you GOTG 3 i...</td>\n",
       "      <td>107</td>\n",
       "    </tr>\n",
       "  </tbody>\n",
       "</table>\n",
       "</div>"
      ],
      "text/plain": [
       "  subreddit                author  \\\n",
       "0    movies             mi-16evil   \n",
       "1    movies       McFeely_Smackup   \n",
       "2    movies  skepticallypessimist   \n",
       "3    movies        dwide_k_shrude   \n",
       "4    movies            apollodeen   \n",
       "\n",
       "                                             comment  score  \n",
       "0  [Gunn has confirmed this on his Instagram](htt...      1  \n",
       "1  \"Sorry James, you're fired\"\\n\\n\"Ok, I guess I'...   5082  \n",
       "2                                      Thats illegal    662  \n",
       "3                             He will make it legal.    266  \n",
       "4  We'll pay you 20 million and give you GOTG 3 i...    107  "
      ]
     },
     "execution_count": 5,
     "metadata": {},
     "output_type": "execute_result"
    }
   ],
   "source": [
    "mod_df.head()"
   ]
  },
  {
   "cell_type": "code",
   "execution_count": 6,
   "metadata": {},
   "outputs": [],
   "source": [
    "from sklearn.externals import joblib\n",
    "from sklearn.feature_extraction.text import TfidfVectorizer\n",
    "from scipy.sparse import hstack\n",
    "import pickle"
   ]
  },
  {
   "cell_type": "code",
   "execution_count": 7,
   "metadata": {},
   "outputs": [],
   "source": [
    "classifiers = []\n",
    "for i in range(6):\n",
    "    classifiers.append(joblib.load(\"lr_char_\" + str(i) + \".joblib\"))"
   ]
  },
  {
   "cell_type": "code",
   "execution_count": 8,
   "metadata": {},
   "outputs": [],
   "source": [
    "word_vectorizer = TfidfVectorizer(\n",
    "    sublinear_tf=True,\n",
    "    strip_accents='unicode',\n",
    "    analyzer='word',\n",
    "    token_pattern=r'\\w{1,}',\n",
    "    stop_words='english',\n",
    "    ngram_range=(1, 1),\n",
    "    max_features=10000)\n",
    "char_vectorizer = TfidfVectorizer(\n",
    "    sublinear_tf=True,\n",
    "    strip_accents='unicode',\n",
    "    analyzer='char',\n",
    "    stop_words='english',\n",
    "    ngram_range=(2, 6),\n",
    "    max_features=50000)"
   ]
  },
  {
   "cell_type": "code",
   "execution_count": 9,
   "metadata": {},
   "outputs": [],
   "source": [
    "word_vectorizer = pickle.load(open(\"word_vectorizer.pickle\",'rb'))\n",
    "char_vectorizer = pickle.load(open(\"char_vectorizer.pickle\",'rb'))"
   ]
  },
  {
   "cell_type": "code",
   "execution_count": 10,
   "metadata": {},
   "outputs": [
    {
     "name": "stdout",
     "output_type": "stream",
     "text": [
      "(101362, 4)\n",
      "(101358, 4)\n"
     ]
    }
   ],
   "source": [
    "print(mod_df.shape)\n",
    "mod_df = mod_df.dropna()\n",
    "print(mod_df.shape)"
   ]
  },
  {
   "cell_type": "code",
   "execution_count": 11,
   "metadata": {},
   "outputs": [
    {
     "name": "stdout",
     "output_type": "stream",
     "text": [
      "(117242, 2)\n",
      "(117242, 2)\n"
     ]
    }
   ],
   "source": [
    "print(stream_df.shape)\n",
    "stream_df = stream_df.dropna()\n",
    "print(stream_df.shape)"
   ]
  },
  {
   "cell_type": "code",
   "execution_count": 12,
   "metadata": {},
   "outputs": [],
   "source": [
    "class_names = ['toxic', 'severe_toxic', 'obscene', 'threat', 'insult', 'identity_hate']"
   ]
  },
  {
   "cell_type": "code",
   "execution_count": 13,
   "metadata": {},
   "outputs": [],
   "source": [
    "mod_df['toxic'] = 0\n",
    "mod_df['severe_toxic'] = 0\n",
    "mod_df['obscene'] = 0\n",
    "mod_df['threat'] = 0\n",
    "mod_df['insult'] = 0\n",
    "mod_df['identity_hate'] = 0"
   ]
  },
  {
   "cell_type": "code",
   "execution_count": 14,
   "metadata": {},
   "outputs": [],
   "source": [
    "stream_df['toxic'] = 0\n",
    "stream_df['severe_toxic'] = 0\n",
    "stream_df['obscene'] = 0\n",
    "stream_df['threat'] = 0\n",
    "stream_df['insult'] = 0\n",
    "stream_df['identity_hate'] = 0"
   ]
  },
  {
   "cell_type": "code",
   "execution_count": 15,
   "metadata": {},
   "outputs": [
    {
     "name": "stdout",
     "output_type": "stream",
     "text": [
      "generating word features\n",
      "creating char features\n",
      "done\n"
     ]
    }
   ],
   "source": [
    "print(\"generating word features\")\n",
    "mod_df_wordfeat = word_vectorizer.transform(mod_df.comment)\n",
    "print(\"creating char features\")\n",
    "mod_df_charfeat = char_vectorizer.transform(mod_df.comment)\n",
    "print(\"done\")\n",
    "mod_df_feat = hstack([mod_df_charfeat,mod_df_wordfeat])"
   ]
  },
  {
   "cell_type": "code",
   "execution_count": 16,
   "metadata": {},
   "outputs": [],
   "source": [
    "i = 0\n",
    "for class_name in class_names:\n",
    "    mod_df[class_name] = classifiers[i].predict_proba(mod_df_feat)[:,1]\n",
    "    i+=1"
   ]
  },
  {
   "cell_type": "code",
   "execution_count": 17,
   "metadata": {},
   "outputs": [],
   "source": [
    "mod_df_wordfeat = 0\n",
    "mod_df_charfeat = 0\n",
    "mod_df_feat = 0"
   ]
  },
  {
   "cell_type": "code",
   "execution_count": 18,
   "metadata": {},
   "outputs": [
    {
     "name": "stdout",
     "output_type": "stream",
     "text": [
      "generating word features\n",
      "creating char features\n",
      "done\n"
     ]
    }
   ],
   "source": [
    "print(\"generating word features\")\n",
    "stream_df_wordfeat = word_vectorizer.transform(stream_df.comment)\n",
    "print(\"creating char features\")\n",
    "stream_df_charfeat = char_vectorizer.transform(stream_df.comment)\n",
    "print(\"done\")\n",
    "stream_df_feat = hstack([stream_df_charfeat,stream_df_wordfeat])"
   ]
  },
  {
   "cell_type": "code",
   "execution_count": 19,
   "metadata": {},
   "outputs": [],
   "source": [
    "i = 0\n",
    "for class_name in class_names:\n",
    "    stream_df[class_name] = classifiers[i].predict_proba(stream_df_feat)[:,1]\n",
    "    i+=1"
   ]
  },
  {
   "cell_type": "code",
   "execution_count": 20,
   "metadata": {},
   "outputs": [],
   "source": [
    "stream_df_wordfeat = 0\n",
    "stream_df_charfeat = 0\n",
    "stream_df_feat = 0"
   ]
  },
  {
   "cell_type": "code",
   "execution_count": 21,
   "metadata": {},
   "outputs": [
    {
     "data": {
      "text/html": [
       "<div>\n",
       "<style scoped>\n",
       "    .dataframe tbody tr th:only-of-type {\n",
       "        vertical-align: middle;\n",
       "    }\n",
       "\n",
       "    .dataframe tbody tr th {\n",
       "        vertical-align: top;\n",
       "    }\n",
       "\n",
       "    .dataframe thead th {\n",
       "        text-align: right;\n",
       "    }\n",
       "</style>\n",
       "<table border=\"1\" class=\"dataframe\">\n",
       "  <thead>\n",
       "    <tr style=\"text-align: right;\">\n",
       "      <th></th>\n",
       "      <th>toxic</th>\n",
       "      <th>severe_toxic</th>\n",
       "      <th>obscene</th>\n",
       "      <th>threat</th>\n",
       "      <th>insult</th>\n",
       "      <th>identity_hate</th>\n",
       "    </tr>\n",
       "  </thead>\n",
       "  <tbody>\n",
       "    <tr>\n",
       "      <th>count</th>\n",
       "      <td>117242.000000</td>\n",
       "      <td>117242.000000</td>\n",
       "      <td>117242.000000</td>\n",
       "      <td>117242.000000</td>\n",
       "      <td>117242.000000</td>\n",
       "      <td>117242.000000</td>\n",
       "    </tr>\n",
       "    <tr>\n",
       "      <th>mean</th>\n",
       "      <td>0.122573</td>\n",
       "      <td>0.009505</td>\n",
       "      <td>0.062581</td>\n",
       "      <td>0.003517</td>\n",
       "      <td>0.050330</td>\n",
       "      <td>0.009889</td>\n",
       "    </tr>\n",
       "    <tr>\n",
       "      <th>std</th>\n",
       "      <td>0.156798</td>\n",
       "      <td>0.028083</td>\n",
       "      <td>0.130044</td>\n",
       "      <td>0.004244</td>\n",
       "      <td>0.085787</td>\n",
       "      <td>0.012836</td>\n",
       "    </tr>\n",
       "    <tr>\n",
       "      <th>min</th>\n",
       "      <td>0.002468</td>\n",
       "      <td>0.000824</td>\n",
       "      <td>0.002985</td>\n",
       "      <td>0.000846</td>\n",
       "      <td>0.002087</td>\n",
       "      <td>0.001552</td>\n",
       "    </tr>\n",
       "    <tr>\n",
       "      <th>25%</th>\n",
       "      <td>0.048530</td>\n",
       "      <td>0.004818</td>\n",
       "      <td>0.023183</td>\n",
       "      <td>0.002597</td>\n",
       "      <td>0.021627</td>\n",
       "      <td>0.006613</td>\n",
       "    </tr>\n",
       "    <tr>\n",
       "      <th>50%</th>\n",
       "      <td>0.074789</td>\n",
       "      <td>0.006279</td>\n",
       "      <td>0.031806</td>\n",
       "      <td>0.003070</td>\n",
       "      <td>0.030463</td>\n",
       "      <td>0.008282</td>\n",
       "    </tr>\n",
       "    <tr>\n",
       "      <th>75%</th>\n",
       "      <td>0.121335</td>\n",
       "      <td>0.008209</td>\n",
       "      <td>0.045620</td>\n",
       "      <td>0.003630</td>\n",
       "      <td>0.044849</td>\n",
       "      <td>0.010313</td>\n",
       "    </tr>\n",
       "    <tr>\n",
       "      <th>max</th>\n",
       "      <td>0.999995</td>\n",
       "      <td>0.908390</td>\n",
       "      <td>0.999999</td>\n",
       "      <td>0.513580</td>\n",
       "      <td>0.999074</td>\n",
       "      <td>0.883107</td>\n",
       "    </tr>\n",
       "  </tbody>\n",
       "</table>\n",
       "</div>"
      ],
      "text/plain": [
       "               toxic   severe_toxic        obscene         threat  \\\n",
       "count  117242.000000  117242.000000  117242.000000  117242.000000   \n",
       "mean        0.122573       0.009505       0.062581       0.003517   \n",
       "std         0.156798       0.028083       0.130044       0.004244   \n",
       "min         0.002468       0.000824       0.002985       0.000846   \n",
       "25%         0.048530       0.004818       0.023183       0.002597   \n",
       "50%         0.074789       0.006279       0.031806       0.003070   \n",
       "75%         0.121335       0.008209       0.045620       0.003630   \n",
       "max         0.999995       0.908390       0.999999       0.513580   \n",
       "\n",
       "              insult  identity_hate  \n",
       "count  117242.000000  117242.000000  \n",
       "mean        0.050330       0.009889  \n",
       "std         0.085787       0.012836  \n",
       "min         0.002087       0.001552  \n",
       "25%         0.021627       0.006613  \n",
       "50%         0.030463       0.008282  \n",
       "75%         0.044849       0.010313  \n",
       "max         0.999074       0.883107  "
      ]
     },
     "execution_count": 21,
     "metadata": {},
     "output_type": "execute_result"
    }
   ],
   "source": [
    "stream_df.describe()"
   ]
  },
  {
   "cell_type": "code",
   "execution_count": 22,
   "metadata": {},
   "outputs": [
    {
     "data": {
      "text/html": [
       "<div>\n",
       "<style scoped>\n",
       "    .dataframe tbody tr th:only-of-type {\n",
       "        vertical-align: middle;\n",
       "    }\n",
       "\n",
       "    .dataframe tbody tr th {\n",
       "        vertical-align: top;\n",
       "    }\n",
       "\n",
       "    .dataframe thead th {\n",
       "        text-align: right;\n",
       "    }\n",
       "</style>\n",
       "<table border=\"1\" class=\"dataframe\">\n",
       "  <thead>\n",
       "    <tr style=\"text-align: right;\">\n",
       "      <th></th>\n",
       "      <th>score</th>\n",
       "      <th>toxic</th>\n",
       "      <th>severe_toxic</th>\n",
       "      <th>obscene</th>\n",
       "      <th>threat</th>\n",
       "      <th>insult</th>\n",
       "      <th>identity_hate</th>\n",
       "    </tr>\n",
       "  </thead>\n",
       "  <tbody>\n",
       "    <tr>\n",
       "      <th>count</th>\n",
       "      <td>101358.000000</td>\n",
       "      <td>101358.000000</td>\n",
       "      <td>101358.000000</td>\n",
       "      <td>101358.000000</td>\n",
       "      <td>101358.000000</td>\n",
       "      <td>101358.000000</td>\n",
       "      <td>101358.000000</td>\n",
       "    </tr>\n",
       "    <tr>\n",
       "      <th>mean</th>\n",
       "      <td>70.726248</td>\n",
       "      <td>0.137612</td>\n",
       "      <td>0.010313</td>\n",
       "      <td>0.070519</td>\n",
       "      <td>0.003588</td>\n",
       "      <td>0.056035</td>\n",
       "      <td>0.010935</td>\n",
       "    </tr>\n",
       "    <tr>\n",
       "      <th>std</th>\n",
       "      <td>713.008978</td>\n",
       "      <td>0.165839</td>\n",
       "      <td>0.027612</td>\n",
       "      <td>0.140782</td>\n",
       "      <td>0.003521</td>\n",
       "      <td>0.091188</td>\n",
       "      <td>0.015792</td>\n",
       "    </tr>\n",
       "    <tr>\n",
       "      <th>min</th>\n",
       "      <td>-207.000000</td>\n",
       "      <td>0.003432</td>\n",
       "      <td>0.001425</td>\n",
       "      <td>0.003622</td>\n",
       "      <td>0.001116</td>\n",
       "      <td>0.003547</td>\n",
       "      <td>0.001873</td>\n",
       "    </tr>\n",
       "    <tr>\n",
       "      <th>25%</th>\n",
       "      <td>1.000000</td>\n",
       "      <td>0.056494</td>\n",
       "      <td>0.005274</td>\n",
       "      <td>0.025612</td>\n",
       "      <td>0.002693</td>\n",
       "      <td>0.024107</td>\n",
       "      <td>0.007219</td>\n",
       "    </tr>\n",
       "    <tr>\n",
       "      <th>50%</th>\n",
       "      <td>2.000000</td>\n",
       "      <td>0.083435</td>\n",
       "      <td>0.006701</td>\n",
       "      <td>0.034378</td>\n",
       "      <td>0.003140</td>\n",
       "      <td>0.032956</td>\n",
       "      <td>0.008871</td>\n",
       "    </tr>\n",
       "    <tr>\n",
       "      <th>75%</th>\n",
       "      <td>6.000000</td>\n",
       "      <td>0.136652</td>\n",
       "      <td>0.008611</td>\n",
       "      <td>0.049450</td>\n",
       "      <td>0.003679</td>\n",
       "      <td>0.049208</td>\n",
       "      <td>0.011031</td>\n",
       "    </tr>\n",
       "    <tr>\n",
       "      <th>max</th>\n",
       "      <td>69534.000000</td>\n",
       "      <td>0.999980</td>\n",
       "      <td>0.868803</td>\n",
       "      <td>0.999981</td>\n",
       "      <td>0.275456</td>\n",
       "      <td>0.998294</td>\n",
       "      <td>0.742926</td>\n",
       "    </tr>\n",
       "  </tbody>\n",
       "</table>\n",
       "</div>"
      ],
      "text/plain": [
       "               score          toxic   severe_toxic        obscene  \\\n",
       "count  101358.000000  101358.000000  101358.000000  101358.000000   \n",
       "mean       70.726248       0.137612       0.010313       0.070519   \n",
       "std       713.008978       0.165839       0.027612       0.140782   \n",
       "min      -207.000000       0.003432       0.001425       0.003622   \n",
       "25%         1.000000       0.056494       0.005274       0.025612   \n",
       "50%         2.000000       0.083435       0.006701       0.034378   \n",
       "75%         6.000000       0.136652       0.008611       0.049450   \n",
       "max     69534.000000       0.999980       0.868803       0.999981   \n",
       "\n",
       "              threat         insult  identity_hate  \n",
       "count  101358.000000  101358.000000  101358.000000  \n",
       "mean        0.003588       0.056035       0.010935  \n",
       "std         0.003521       0.091188       0.015792  \n",
       "min         0.001116       0.003547       0.001873  \n",
       "25%         0.002693       0.024107       0.007219  \n",
       "50%         0.003140       0.032956       0.008871  \n",
       "75%         0.003679       0.049208       0.011031  \n",
       "max         0.275456       0.998294       0.742926  "
      ]
     },
     "execution_count": 22,
     "metadata": {},
     "output_type": "execute_result"
    }
   ],
   "source": [
    "mod_df.describe()"
   ]
  },
  {
   "cell_type": "code",
   "execution_count": 23,
   "metadata": {},
   "outputs": [],
   "source": [
    "stream_df.to_csv(\"stream_pred.csv\", index=False)\n",
    "mod_df.to_csv(\"top_week_full_pred.csv\", index=False)"
   ]
  },
  {
   "cell_type": "code",
   "execution_count": null,
   "metadata": {},
   "outputs": [],
   "source": []
  }
 ],
 "metadata": {
  "kernelspec": {
   "display_name": "Python 3",
   "language": "python",
   "name": "python3"
  },
  "language_info": {
   "codemirror_mode": {
    "name": "ipython",
    "version": 3
   },
   "file_extension": ".py",
   "mimetype": "text/x-python",
   "name": "python",
   "nbconvert_exporter": "python",
   "pygments_lexer": "ipython3",
   "version": "3.6.5"
  }
 },
 "nbformat": 4,
 "nbformat_minor": 2
}
