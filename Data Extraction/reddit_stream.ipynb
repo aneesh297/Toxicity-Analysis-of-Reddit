{
 "cells": [
  {
   "cell_type": "code",
   "execution_count": 1,
   "metadata": {},
   "outputs": [],
   "source": [
    "import praw\n",
    "import pandas as pd"
   ]
  },
  {
   "cell_type": "code",
   "execution_count": 2,
   "metadata": {},
   "outputs": [],
   "source": [
    "usrname = 'mpbot0'\n",
    "cid = 'yUJmELsXRFcD6A'\n",
    "csecret = 'VKquj58R_cCuv021SqH6DYkCUic'\n",
    "psswd = 'abcd1234'"
   ]
  },
  {
   "cell_type": "code",
   "execution_count": 3,
   "metadata": {},
   "outputs": [],
   "source": [
    "# create a Reddit instance\n",
    "reddit = praw.Reddit(client_id=cid,\n",
    "                     client_secret=csecret, password=psswd,\n",
    "                     user_agent='aneesh', username=usrname)"
   ]
  },
  {
   "cell_type": "code",
   "execution_count": 4,
   "metadata": {},
   "outputs": [],
   "source": [
    "path = r\"C:\\Users\\anees\\Documents\\CS\\MP\\datasets\\top200.csv\""
   ]
  },
  {
   "cell_type": "code",
   "execution_count": 9,
   "metadata": {},
   "outputs": [
    {
     "name": "stdout",
     "output_type": "stream",
     "text": [
      "No of subreddits: 200\n"
     ]
    }
   ],
   "source": [
    "slist = pd.read_csv(path, names=['subreddit'])\n",
    "sublist_full = slist['subreddit']\n",
    "print(\"No of subreddits: \" + str(len(sublist_full)))"
   ]
  },
  {
   "cell_type": "code",
   "execution_count": 10,
   "metadata": {},
   "outputs": [],
   "source": [
    "sublist = sublist_full[0:50]"
   ]
  },
  {
   "cell_type": "code",
   "execution_count": null,
   "metadata": {},
   "outputs": [],
   "source": [
    "# sublist = ['the_donald','news','politics','conservative','gaming','Showerthoughts','science','movies','wholesomememes',\n",
    "#            'todayilearned','theredpill','imgoingtohellforthis','cringeanarchy','shitpoliticssays',\n",
    "#            'atheism','wholesomegifs','aww','mademesmile','kotakuinaction','games','music','sports','funny','4chan','happy']"
   ]
  },
  {
   "cell_type": "code",
   "execution_count": 22,
   "metadata": {
    "scrolled": true
   },
   "outputs": [
    {
     "name": "stdout",
     "output_type": "stream",
     "text": [
      "Current Subreddit: funny\n",
      "0\n",
      "10\n",
      "20\n",
      "30\n",
      "40\n",
      "50\n",
      "60\n",
      "70\n",
      "80\n",
      "90\n",
      "100\n",
      "110\n",
      "120\n",
      "130\n",
      "140\n",
      "150\n",
      "160\n",
      "170\n",
      "180\n",
      "190\n",
      "200\n"
     ]
    },
    {
     "ename": "KeyboardInterrupt",
     "evalue": "",
     "output_type": "error",
     "traceback": [
      "\u001b[1;31m---------------------------------------------------------------------------\u001b[0m",
      "\u001b[1;31mKeyboardInterrupt\u001b[0m                         Traceback (most recent call last)",
      "\u001b[1;32m<ipython-input-22-a0d914191896>\u001b[0m in \u001b[0;36m<module>\u001b[1;34m()\u001b[0m\n\u001b[0;32m     15\u001b[0m     \u001b[0mcount\u001b[0m \u001b[1;33m=\u001b[0m \u001b[1;36m0\u001b[0m\u001b[1;33m\u001b[0m\u001b[0m\n\u001b[0;32m     16\u001b[0m     \u001b[0mcomments\u001b[0m \u001b[1;33m=\u001b[0m \u001b[1;33m[\u001b[0m\u001b[1;33m]\u001b[0m\u001b[1;33m\u001b[0m\u001b[0m\n\u001b[1;32m---> 17\u001b[1;33m     \u001b[1;32mfor\u001b[0m \u001b[0mcomment\u001b[0m \u001b[1;32min\u001b[0m \u001b[0msubreddit\u001b[0m\u001b[1;33m.\u001b[0m\u001b[0mstream\u001b[0m\u001b[1;33m.\u001b[0m\u001b[0mcomments\u001b[0m\u001b[1;33m(\u001b[0m\u001b[1;33m)\u001b[0m\u001b[1;33m:\u001b[0m\u001b[1;33m\u001b[0m\u001b[0m\n\u001b[0m\u001b[0;32m     18\u001b[0m         \u001b[1;32mif\u001b[0m \u001b[0mcount\u001b[0m\u001b[1;33m>=\u001b[0m\u001b[1;36m1000\u001b[0m\u001b[1;33m:\u001b[0m\u001b[1;33m\u001b[0m\u001b[0m\n\u001b[0;32m     19\u001b[0m             \u001b[1;32mbreak\u001b[0m\u001b[1;33m\u001b[0m\u001b[0m\n",
      "\u001b[1;32mC:\\ProgramData\\Anaconda3\\lib\\site-packages\\praw\\models\\util.py\u001b[0m in \u001b[0;36mstream_generator\u001b[1;34m(function, pause_after, skip_existing)\u001b[0m\n\u001b[0;32m    188\u001b[0m                 \u001b[1;32myield\u001b[0m \u001b[1;32mNone\u001b[0m\u001b[1;33m\u001b[0m\u001b[0m\n\u001b[0;32m    189\u001b[0m             \u001b[1;32melse\u001b[0m\u001b[1;33m:\u001b[0m\u001b[1;33m\u001b[0m\u001b[0m\n\u001b[1;32m--> 190\u001b[1;33m                 \u001b[0mtime\u001b[0m\u001b[1;33m.\u001b[0m\u001b[0msleep\u001b[0m\u001b[1;33m(\u001b[0m\u001b[0mexponential_counter\u001b[0m\u001b[1;33m.\u001b[0m\u001b[0mcounter\u001b[0m\u001b[1;33m(\u001b[0m\u001b[1;33m)\u001b[0m\u001b[1;33m)\u001b[0m\u001b[1;33m\u001b[0m\u001b[0m\n\u001b[0m",
      "\u001b[1;31mKeyboardInterrupt\u001b[0m: "
     ]
    }
   ],
   "source": [
    "full_comment = []\n",
    "for sub in sublist:\n",
    "    subreddit = reddit.subreddit(sub)\n",
    "    \n",
    "    #quarantined subreddits require an opt-in process\n",
    "    try:\n",
    "        next(subreddit.hot())\n",
    "    except:\n",
    "        print(\"quarantine encountered\")\n",
    "        subreddit.quaran.opt_in()\n",
    "        \n",
    "    subreddit = reddit.subreddit(sub)\n",
    "    \n",
    "    print(\"Current Subreddit: \" + sub)\n",
    "    count = 0\n",
    "    comments = []\n",
    "    for comment in subreddit.stream.comments():\n",
    "        if count>=1000:\n",
    "            break\n",
    "        if count%50==0:\n",
    "            print(count)\n",
    "        try:\n",
    "            c = comment.body\n",
    "            #a = comment.author.name\n",
    "            comments.append(c)\n",
    "        except praw.exceptions.PRAWException as e:\n",
    "            pass\n",
    "        count+=1\n",
    "    full_comment.append(comments)"
   ]
  },
  {
   "cell_type": "code",
   "execution_count": null,
   "metadata": {},
   "outputs": [],
   "source": [
    "print(\"Number of comments:\")\n",
    "for i in range(len(sublist)):\n",
    "    print(sublist[i], len(full_comment[i]))"
   ]
  },
  {
   "cell_type": "code",
   "execution_count": null,
   "metadata": {},
   "outputs": [],
   "source": [
    "comments = []\n",
    "count = 0 \n",
    "for sub in full_commewnt:\n",
    "    for comment in sub:\n",
    "        comments.append([comment[0],comment[1], sublist[count]])  #body score subreddit name\n",
    "    count+=1"
   ]
  },
  {
   "cell_type": "code",
   "execution_count": null,
   "metadata": {},
   "outputs": [],
   "source": [
    "df = pd.DataFrame(columns=['comment','score','subreddit'])"
   ]
  },
  {
   "cell_type": "code",
   "execution_count": null,
   "metadata": {},
   "outputs": [],
   "source": [
    "df.comment = [x[0] for x in comments]\n",
    "df.score = [x[1] for x in comments]\n",
    "df.subreddit = [x[2] for x in comments]"
   ]
  },
  {
   "cell_type": "code",
   "execution_count": null,
   "metadata": {},
   "outputs": [],
   "source": [
    "df.head()"
   ]
  },
  {
   "cell_type": "code",
   "execution_count": null,
   "metadata": {},
   "outputs": [],
   "source": [
    "df.to_csv(\"25subs_500_scored.csv\", index=False)"
   ]
  }
 ],
 "metadata": {
  "kernelspec": {
   "display_name": "Python 3",
   "language": "python",
   "name": "python3"
  },
  "language_info": {
   "codemirror_mode": {
    "name": "ipython",
    "version": 3
   },
   "file_extension": ".py",
   "mimetype": "text/x-python",
   "name": "python",
   "nbconvert_exporter": "python",
   "pygments_lexer": "ipython3",
   "version": "3.6.5"
  }
 },
 "nbformat": 4,
 "nbformat_minor": 2
}
