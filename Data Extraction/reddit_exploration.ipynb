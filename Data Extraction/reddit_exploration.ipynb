{
 "cells": [
  {
   "cell_type": "code",
   "execution_count": 6,
   "metadata": {},
   "outputs": [],
   "source": [
    "import praw\n",
    "import pandas as pd"
   ]
  },
  {
   "cell_type": "code",
   "execution_count": 2,
   "metadata": {},
   "outputs": [],
   "source": [
    "usrname = 'mpbot0'\n",
    "cid = 'yUJmELsXRFcD6A'\n",
    "csecret = 'VKquj58R_cCuv021SqH6DYkCUic'\n",
    "psswd = 'abcd1234'"
   ]
  },
  {
   "cell_type": "code",
   "execution_count": 3,
   "metadata": {},
   "outputs": [],
   "source": [
    "# create a Reddit instance\n",
    "reddit = praw.Reddit(client_id=cid,\n",
    "                     client_secret=csecret, password=psswd,\n",
    "                     user_agent='PrawTut', username=usrname)"
   ]
  },
  {
   "cell_type": "code",
   "execution_count": 35,
   "metadata": {},
   "outputs": [],
   "source": [
    "sublist = ['the_donald','news','politics','conservative','gaming','Showerthoughts','science','movies','wholesomememes',\n",
    "           'todayilearned','theredpill','imgoingtohellforthis','cringeanarchy','shitpoliticssays',\n",
    "           'atheism','wholesomegifs','aww','mademesmile','kotakuinaction','games','music','sports','funny','4chan','happy']"
   ]
  },
  {
   "cell_type": "code",
   "execution_count": 36,
   "metadata": {},
   "outputs": [
    {
     "data": {
      "text/plain": [
       "25"
      ]
     },
     "execution_count": 36,
     "metadata": {},
     "output_type": "execute_result"
    }
   ],
   "source": [
    "len(sublist)"
   ]
  },
  {
   "cell_type": "code",
   "execution_count": 37,
   "metadata": {},
   "outputs": [
    {
     "name": "stdout",
     "output_type": "stream",
     "text": [
      "Current Subreddit: the_donald\n",
      "Current Subreddit: news\n",
      "Current Subreddit: politics\n",
      "Current Subreddit: conservative\n",
      "Current Subreddit: gaming\n",
      "Current Subreddit: Showerthoughts\n",
      "Current Subreddit: science\n",
      "Current Subreddit: movies\n",
      "Current Subreddit: wholesomememes\n",
      "Current Subreddit: todayilearned\n",
      "Current Subreddit: theredpill\n",
      "Current Subreddit: imgoingtohellforthis\n",
      "Current Subreddit: cringeanarchy\n",
      "Current Subreddit: shitpoliticssays\n",
      "Current Subreddit: atheism\n",
      "Current Subreddit: wholesomegifs\n",
      "Current Subreddit: aww\n",
      "Current Subreddit: mademesmile\n",
      "Current Subreddit: kotakuinaction\n",
      "Current Subreddit: games\n",
      "Current Subreddit: music\n",
      "Current Subreddit: sports\n",
      "Current Subreddit: funny\n",
      "Current Subreddit: 4chan\n",
      "Current Subreddit: happy\n"
     ]
    }
   ],
   "source": [
    "full_comment = []\n",
    "for sub in sublist:\n",
    "    subreddit = reddit.subreddit(sub)\n",
    "    \n",
    "    #quarantined subreddits require an opt-in process\n",
    "    try:\n",
    "        next(subreddit.hot())\n",
    "    except:\n",
    "        print(\"quarantine encountered\")\n",
    "        subreddit.quaran.opt_in()\n",
    "        \n",
    "    subreddit = reddit.subreddit(sub)\n",
    "    top = subreddit.top('week',limit=20)\n",
    "    print(\"Current Subreddit: \" + sub)\n",
    "    count = 0\n",
    "    comments = []\n",
    "    for submission in top:\n",
    "        if not submission.stickied:\n",
    "            submission.comments.replace_more(limit=0)\n",
    "            hidden_count = 0\n",
    "            for comment in submission.comments.list():\n",
    "                if count>=500: #required no. of comments reached\n",
    "                    break\n",
    "                try:\n",
    "                    if comment.score_hidden == True: # score is hidden due to being new thread\n",
    "                        hidden_count += 1\n",
    "                        if hidden_count>10:\n",
    "                            break\n",
    "                        else:\n",
    "                            continue\n",
    "                    if comment.body in ['[removed]','[deleted]']:\n",
    "                        continue\n",
    "                    c = comment.body\n",
    "                    score = comment.score\n",
    "                    comments.append([c,score])\n",
    "                except praw.exceptions.PRAWException as e:\n",
    "                    pass\n",
    "                count+=1  \n",
    "        if count>=1000:\n",
    "            break\n",
    "    full_comment.append(comments)"
   ]
  },
  {
   "cell_type": "code",
   "execution_count": 39,
   "metadata": {},
   "outputs": [
    {
     "name": "stdout",
     "output_type": "stream",
     "text": [
      "Number of comments:\n",
      "the_donald 500\n",
      "news 500\n",
      "politics 500\n",
      "conservative 500\n",
      "gaming 500\n",
      "Showerthoughts 500\n",
      "science 500\n",
      "movies 500\n",
      "wholesomememes 500\n",
      "todayilearned 500\n",
      "theredpill 500\n",
      "imgoingtohellforthis 500\n",
      "cringeanarchy 500\n",
      "shitpoliticssays 500\n",
      "atheism 500\n",
      "wholesomegifs 500\n",
      "aww 500\n",
      "mademesmile 500\n",
      "kotakuinaction 500\n",
      "games 500\n",
      "music 500\n",
      "sports 500\n",
      "funny 500\n",
      "4chan 500\n",
      "happy 500\n"
     ]
    }
   ],
   "source": [
    "print(\"Number of comments:\")\n",
    "for i in range(len(sublist)):\n",
    "    print(sublist[i], len(full_comment[i]))"
   ]
  },
  {
   "cell_type": "code",
   "execution_count": 40,
   "metadata": {},
   "outputs": [],
   "source": [
    "comments = []\n",
    "count = 0 \n",
    "for sub in full_comment:\n",
    "    for comment in sub:\n",
    "        comments.append([comment[0],comment[1], sublist[count]])  #body score subreddit name\n",
    "    count+=1"
   ]
  },
  {
   "cell_type": "code",
   "execution_count": 41,
   "metadata": {},
   "outputs": [],
   "source": [
    "df = pd.DataFrame(columns=['comment','score','subreddit'])"
   ]
  },
  {
   "cell_type": "code",
   "execution_count": 43,
   "metadata": {},
   "outputs": [],
   "source": [
    "df.comment = [x[0] for x in comments]\n",
    "df.score = [x[1] for x in comments]\n",
    "df.subreddit = [x[2] for x in comments]"
   ]
  },
  {
   "cell_type": "code",
   "execution_count": 44,
   "metadata": {},
   "outputs": [
    {
     "data": {
      "text/html": [
       "<div>\n",
       "<style scoped>\n",
       "    .dataframe tbody tr th:only-of-type {\n",
       "        vertical-align: middle;\n",
       "    }\n",
       "\n",
       "    .dataframe tbody tr th {\n",
       "        vertical-align: top;\n",
       "    }\n",
       "\n",
       "    .dataframe thead th {\n",
       "        text-align: right;\n",
       "    }\n",
       "</style>\n",
       "<table border=\"1\" class=\"dataframe\">\n",
       "  <thead>\n",
       "    <tr style=\"text-align: right;\">\n",
       "      <th></th>\n",
       "      <th>comment</th>\n",
       "      <th>score</th>\n",
       "      <th>subreddit</th>\n",
       "    </tr>\n",
       "  </thead>\n",
       "  <tbody>\n",
       "    <tr>\n",
       "      <th>0</th>\n",
       "      <td>I think it would be good for him to do a natio...</td>\n",
       "      <td>491</td>\n",
       "      <td>the_donald</td>\n",
       "    </tr>\n",
       "    <tr>\n",
       "      <th>1</th>\n",
       "      <td>Um I saw on my home page, r/eeeedacted that he...</td>\n",
       "      <td>137</td>\n",
       "      <td>the_donald</td>\n",
       "    </tr>\n",
       "    <tr>\n",
       "      <th>2</th>\n",
       "      <td>This man will never walk alone</td>\n",
       "      <td>169</td>\n",
       "      <td>the_donald</td>\n",
       "    </tr>\n",
       "    <tr>\n",
       "      <th>3</th>\n",
       "      <td>I am fearful that the hatred spewed nightly is...</td>\n",
       "      <td>139</td>\n",
       "      <td>the_donald</td>\n",
       "    </tr>\n",
       "    <tr>\n",
       "      <th>4</th>\n",
       "      <td>Amen. We love him and are all so thankful for ...</td>\n",
       "      <td>100</td>\n",
       "      <td>the_donald</td>\n",
       "    </tr>\n",
       "  </tbody>\n",
       "</table>\n",
       "</div>"
      ],
      "text/plain": [
       "                                             comment  score   subreddit\n",
       "0  I think it would be good for him to do a natio...    491  the_donald\n",
       "1  Um I saw on my home page, r/eeeedacted that he...    137  the_donald\n",
       "2                    This man will never walk alone     169  the_donald\n",
       "3  I am fearful that the hatred spewed nightly is...    139  the_donald\n",
       "4  Amen. We love him and are all so thankful for ...    100  the_donald"
      ]
     },
     "execution_count": 44,
     "metadata": {},
     "output_type": "execute_result"
    }
   ],
   "source": [
    "df.head()"
   ]
  },
  {
   "cell_type": "code",
   "execution_count": 45,
   "metadata": {},
   "outputs": [],
   "source": [
    "df.to_csv(\"25subs_500_scored.csv\", index=False)"
   ]
  },
  {
   "cell_type": "code",
   "execution_count": null,
   "metadata": {},
   "outputs": [],
   "source": []
  },
  {
   "cell_type": "code",
   "execution_count": null,
   "metadata": {},
   "outputs": [],
   "source": []
  },
  {
   "cell_type": "code",
   "execution_count": null,
   "metadata": {},
   "outputs": [],
   "source": []
  }
 ],
 "metadata": {
  "kernelspec": {
   "display_name": "Python 3",
   "language": "python",
   "name": "python3"
  },
  "language_info": {
   "codemirror_mode": {
    "name": "ipython",
    "version": 3
   },
   "file_extension": ".py",
   "mimetype": "text/x-python",
   "name": "python",
   "nbconvert_exporter": "python",
   "pygments_lexer": "ipython3",
   "version": "3.6.5"
  }
 },
 "nbformat": 4,
 "nbformat_minor": 2
}
